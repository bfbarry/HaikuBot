{
 "cells": [
  {
   "cell_type": "code",
   "execution_count": 1,
   "metadata": {
    "execution": {
     "iopub.execute_input": "2021-05-22T03:49:26.338314Z",
     "iopub.status.busy": "2021-05-22T03:49:26.337571Z",
     "iopub.status.idle": "2021-05-22T03:49:31.772176Z",
     "shell.execute_reply": "2021-05-22T03:49:31.770986Z",
     "shell.execute_reply.started": "2021-05-22T03:49:26.338227Z"
    }
   },
   "outputs": [],
   "source": [
    "%load_ext autoreload\n",
    "%autoreload 2\n",
    "import sys, os\n",
    "import requests\n",
    "import json\n",
    "import datetime\n",
    "import time\n",
    "sys.path.append('../')\n",
    "import utils\n",
    "from utils.haiku_scrape import scrape_haiku, replace_all, detokenize"
   ]
  },
  {
   "cell_type": "code",
   "execution_count": null,
   "metadata": {},
   "outputs": [],
   "source": [
    "h_set = scrape_haiku()\n",
    "h_set.append('Keep this in your mind. / Only after the clouds cry, / will the rainbow come') #good haiku but had trailing '/'\n",
    "len(h_set)"
   ]
  },
  {
   "cell_type": "markdown",
   "metadata": {
    "execution": {
     "iopub.execute_input": "2021-05-25T19:41:14.755745Z",
     "iopub.status.busy": "2021-05-25T19:41:14.755410Z",
     "iopub.status.idle": "2021-05-25T19:41:14.762582Z",
     "shell.execute_reply": "2021-05-25T19:41:14.759996Z",
     "shell.execute_reply.started": "2021-05-25T19:41:14.755707Z"
    }
   },
   "source": [
    "# Using pushshift instead"
   ]
  },
  {
   "cell_type": "code",
   "execution_count": 7,
   "metadata": {
    "execution": {
     "iopub.execute_input": "2021-05-25T19:52:50.371795Z",
     "iopub.status.busy": "2021-05-25T19:52:50.371482Z",
     "iopub.status.idle": "2021-05-25T19:52:50.380055Z",
     "shell.execute_reply": "2021-05-25T19:52:50.378783Z",
     "shell.execute_reply.started": "2021-05-25T19:52:50.371759Z"
    }
   },
   "outputs": [
    {
     "data": {
      "text/plain": [
       "datetime.date(2021, 5, 25)"
      ]
     },
     "execution_count": 7,
     "metadata": {},
     "output_type": "execute_result"
    }
   ],
   "source": [
    "datetime.date.today()"
   ]
  },
  {
   "cell_type": "code",
   "execution_count": 21,
   "metadata": {
    "execution": {
     "iopub.execute_input": "2021-05-26T01:50:24.853144Z",
     "iopub.status.busy": "2021-05-26T01:50:24.852807Z",
     "iopub.status.idle": "2021-05-26T01:50:24.871019Z",
     "shell.execute_reply": "2021-05-26T01:50:24.869626Z",
     "shell.execute_reply.started": "2021-05-26T01:50:24.853106Z"
    }
   },
   "outputs": [
    {
     "name": "stdout",
     "output_type": "stream",
     "text": [
      "2018-04-17 03:02:01\n",
      "2018-04-21 00:00:00\n"
     ]
    }
   ],
   "source": [
    "print(datetime.datetime.utcfromtimestamp(1523934121).strftime('%Y-%m-%d %H:%M:%S'))\n",
    "print(datetime.date(2018,4,21).strftime('%Y-%m-%d %H:%M:%S'))"
   ]
  },
  {
   "cell_type": "code",
   "execution_count": 52,
   "metadata": {
    "execution": {
     "iopub.execute_input": "2021-05-26T02:40:09.809293Z",
     "iopub.status.busy": "2021-05-26T02:40:09.808920Z",
     "iopub.status.idle": "2021-05-26T02:40:10.739947Z",
     "shell.execute_reply": "2021-05-26T02:40:10.738599Z",
     "shell.execute_reply.started": "2021-05-26T02:40:09.809253Z"
    }
   },
   "outputs": [
    {
     "data": {
      "text/plain": [
       "100"
      ]
     },
     "execution_count": 52,
     "metadata": {},
     "output_type": "execute_result"
    }
   ],
   "source": [
    "d1= datetime.date.today()#datetime.date(2013,9,1)\n",
    "before = int(time.mktime(d1.timetuple()))\n",
    "after = before - 7*24*60*60\n",
    "\n",
    "x = requests.get(f'https://api.pushshift.io/reddit/search/submission/?subreddit=haiku&sort=top&sort_type=created_utc&after={after}&before={before}&size=1000').json()\n",
    "len(x['data'])"
   ]
  },
  {
   "cell_type": "markdown",
   "metadata": {
    "execution": {
     "iopub.execute_input": "2021-05-26T02:40:30.786481Z",
     "iopub.status.busy": "2021-05-26T02:40:30.785741Z",
     "iopub.status.idle": "2021-05-26T02:40:31.079166Z",
     "shell.execute_reply": "2021-05-26T02:40:31.076485Z",
     "shell.execute_reply.started": "2021-05-26T02:40:30.786408Z"
    }
   },
   "source": [
    "x"
   ]
  },
  {
   "cell_type": "code",
   "execution_count": 58,
   "metadata": {
    "execution": {
     "iopub.execute_input": "2021-05-26T02:41:13.086902Z",
     "iopub.status.busy": "2021-05-26T02:41:13.086063Z",
     "iopub.status.idle": "2021-05-26T02:41:13.567107Z",
     "shell.execute_reply": "2021-05-26T02:41:13.565913Z",
     "shell.execute_reply.started": "2021-05-26T02:41:13.086510Z"
    }
   },
   "outputs": [
    {
     "data": {
      "text/plain": [
       "[<matplotlib.lines.Line2D at 0x7fe3addcc810>]"
      ]
     },
     "execution_count": 58,
     "metadata": {},
     "output_type": "execute_result"
    },
    {
     "data": {
      "image/png": "[encoded data removed]",
      "text/plain": [
       "<Figure size 432x288 with 1 Axes>"
      ]
     },
     "metadata": {
      "needs_background": "light"
     },
     "output_type": "display_data"
    }
   ],
   "source": [
    "import matplotlib.pyplot as plt\n",
    "plt.plot([el['created_utc'] for el in x['data']])"
   ]
  },
  {
   "cell_type": "code",
   "execution_count": 47,
   "metadata": {
    "execution": {
     "iopub.execute_input": "2021-05-26T02:34:26.256483Z",
     "iopub.status.busy": "2021-05-26T02:34:26.256128Z",
     "iopub.status.idle": "2021-05-26T02:35:34.673760Z",
     "shell.execute_reply": "2021-05-26T02:35:34.670698Z",
     "shell.execute_reply.started": "2021-05-26T02:34:26.256443Z"
    }
   },
   "outputs": [
    {
     "data": {
      "text/plain": [
       "3763"
      ]
     },
     "execution_count": 47,
     "metadata": {},
     "output_type": "execute_result"
    }
   ],
   "source": [
    "def get_titles(num=100):\n",
    "    '''iterates over weeks of posts (since there are at least 100 posts a week)\n",
    "    num is multiple of 100'''\n",
    "    titles = []\n",
    "    d1 = datetime.date.today()#datetime.date(2013,9,1)\n",
    "    before = int(time.mktime(d1.timetuple()))\n",
    "    after = before - 7*24*60*60\n",
    "    for i in range(int(num/100)):\n",
    "        resp = requests.get(f'https://api.pushshift.io/reddit/search/submission/?subreddit=haiku&sort=desc&sort_type=created_utc&after={after}&before={before}&size=1000').json()['data']\n",
    "        titles.extend([el['title'] for el in resp])\n",
    "        before = after\n",
    "        after = before - 7*24*60*60\n",
    "    return list(set(titles))\n",
    "\n",
    "s = get_titles(4000)\n",
    "len(s)"
   ]
  },
  {
   "cell_type": "markdown",
   "metadata": {},
   "source": [
    "# Emoji removal"
   ]
  },
  {
   "cell_type": "code",
   "execution_count": 154,
   "metadata": {
    "execution": {
     "iopub.execute_input": "2021-05-14T03:28:32.177713Z",
     "iopub.status.busy": "2021-05-14T03:28:32.177215Z",
     "iopub.status.idle": "2021-05-14T03:28:32.639753Z",
     "shell.execute_reply": "2021-05-14T03:28:32.638567Z",
     "shell.execute_reply.started": "2021-05-14T03:28:32.177651Z"
    }
   },
   "outputs": [
    {
     "name": "stdout",
     "output_type": "stream",
     "text": [
      "[' ', '!', '\"', \"'\", ',', '.', '/', '?', 'A', 'B', 'C', 'D', 'E', 'F', 'G', 'H', 'I', 'J', 'K', 'L', 'M', 'N', 'O', 'P', 'Q', 'R', 'S', 'T', 'U', 'V', 'W', 'X', 'Y', 'Z', 'a', 'b', 'c', 'd', 'e', 'f', 'g', 'h', 'i', 'j', 'k', 'l', 'm', 'n', 'o', 'p', 'q', 'r', 's', 't', 'u', 'v', 'w', 'x', 'y', 'z']\n"
     ]
    },
    {
     "data": {
      "text/plain": [
       "[<matplotlib.lines.Line2D at 0x7fab3748fed0>]"
      ]
     },
     "execution_count": 154,
     "metadata": {},
     "output_type": "execute_result"
    },
    {
     "data": {
      "image/png": "[encoded data removed]",
      "text/plain": [
       "<Figure size 432x288 with 1 Axes>"
      ]
     },
     "metadata": {
      "needs_background": "light"
     },
     "output_type": "display_data"
    }
   ],
   "source": [
    "all_s = ''\n",
    "for i in h_set:\n",
    "    all_s += i\n",
    "print(sorted(set(all_s)))\n",
    "plt.plot(sorted([ord(i) for i in set(all_s)]))"
   ]
  },
  {
   "cell_type": "code",
   "execution_count": 74,
   "metadata": {
    "execution": {
     "iopub.execute_input": "2021-05-14T01:38:23.581977Z",
     "iopub.status.busy": "2021-05-14T01:38:23.581479Z",
     "iopub.status.idle": "2021-05-14T01:38:23.756692Z",
     "shell.execute_reply": "2021-05-14T01:38:23.754603Z",
     "shell.execute_reply.started": "2021-05-14T01:38:23.581912Z"
    }
   },
   "outputs": [
    {
     "name": "stdout",
     "output_type": "stream",
     "text": [
      "[32, 33, 34, 38, 39, 40, 41, 44, 45, 46, 47, 48, 49, 50, 51, 52, 53, 54, 55, 56, 57, 58, 59, 63, 65, 66, 67, 68, 69, 70, 71, 72, 73, 74, 75, 76, 77, 78, 79, 80, 81, 82, 83, 84, 85, 86, 87, 88, 89, 90, 94, 97, 98, 99, 100, 101, 102, 103, 104, 105, 106, 107, 108, 109, 110, 111, 112, 113, 114, 115, 116, 117, 118, 119, 120, 121, 122, 233, 8212, 8217, 8220, 8221, 8230, 9925, 11834, 65039, 65295, 65340, 127843, 127849, 127969, 128520]\n"
     ]
    },
    {
     "data": {
      "text/plain": [
       "'”'"
      ]
     },
     "execution_count": 74,
     "metadata": {},
     "output_type": "execute_result"
    }
   ],
   "source": [
    "x = sorted([ord(i) for i in set(all_s)])\n",
    "print(x)\n",
    "chr(8221)"
   ]
  },
  {
   "cell_type": "code",
   "execution_count": 103,
   "metadata": {
    "execution": {
     "iopub.execute_input": "2021-05-14T02:00:57.295421Z",
     "iopub.status.busy": "2021-05-14T02:00:57.294848Z",
     "iopub.status.idle": "2021-05-14T02:00:57.855982Z",
     "shell.execute_reply": "2021-05-14T02:00:57.849688Z",
     "shell.execute_reply.started": "2021-05-14T02:00:57.295309Z"
    }
   },
   "outputs": [
    {
     "data": {
      "text/plain": [
       "[<matplotlib.lines.Line2D at 0x7fab39241fd0>]"
      ]
     },
     "execution_count": 103,
     "metadata": {},
     "output_type": "execute_result"
    },
    {
     "data": {
      "image/png": "[encoded data removed]",
      "text/plain": [
       "<Figure size 432x288 with 1 Axes>"
      ]
     },
     "metadata": {
      "needs_background": "light"
     },
     "output_type": "display_data"
    }
   ],
   "source": [
    "with open('../data/emoji-data.txt','r') as f:\n",
    "    x = f.read()\n",
    "x = [i for ix, i in enumerate(x) if x[ix-1] == '(' ]\n",
    "ords = sorted([ord(i) for i in x])\n",
    "plt.plot(ords[:177])"
   ]
  },
  {
   "cell_type": "code",
   "execution_count": 105,
   "metadata": {
    "execution": {
     "iopub.execute_input": "2021-05-14T02:01:15.378452Z",
     "iopub.status.busy": "2021-05-14T02:01:15.377954Z",
     "iopub.status.idle": "2021-05-14T02:01:15.534622Z",
     "shell.execute_reply": "2021-05-14T02:01:15.533516Z",
     "shell.execute_reply.started": "2021-05-14T02:01:15.378388Z"
    }
   },
   "outputs": [
    {
     "data": {
      "text/plain": [
       "15"
      ]
     },
     "execution_count": 105,
     "metadata": {},
     "output_type": "execute_result"
    }
   ],
   "source": [
    "np.argmax(np.diff(ords[:177]))"
   ]
  }
 ],
 "metadata": {
  "kernelspec": {
   "display_name": "Python 3",
   "language": "python",
   "name": "python3"
  },
  "language_info": {
   "codemirror_mode": {
    "name": "ipython",
    "version": 3
   },
   "file_extension": ".py",
   "mimetype": "text/x-python",
   "name": "python",
   "nbconvert_exporter": "python",
   "pygments_lexer": "ipython3",
   "version": "3.7.4"
  }
 },
 "nbformat": 4,
 "nbformat_minor": 4
}
