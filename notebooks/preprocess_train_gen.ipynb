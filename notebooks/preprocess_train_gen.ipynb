{
  "nbformat": 4,
  "nbformat_minor": 0,
  "metadata": {
    "kernelspec": {
      "display_name": "Python 3",
      "language": "python",
      "name": "python3"
    },
    "language_info": {
      "codemirror_mode": {
        "name": "ipython",
        "version": 3
      },
      "file_extension": ".py",
      "mimetype": "text/x-python",
      "name": "python",
      "nbconvert_exporter": "python",
      "pygments_lexer": "ipython3",
      "version": "3.7.4"
    },
    "colab": {
      "name": "preprocess_train_gen.ipynb",
      "provenance": [],
      "collapsed_sections": []
    },
    "accelerator": "GPU"
  },
  "cells": [
    {
      "cell_type": "code",
      "metadata": {
        "colab": {
          "base_uri": "https://localhost:8080/"
        },
        "id": "xjFl7qlLpxzF",
        "outputId": "55a0fbd9-680d-41ab-d157-61188993e76e"
      },
      "source": [
        "#for google drive only\n",
        "from google.colab import drive\n",
        "drive.mount('/content/drive')\n",
        "%cd ../content/drive/My\\ Drive/Code/HaikuBot/notebooks/\n",
        "\n",
        "import nltk\n",
        "nltk.download('punkt')"
      ],
      "execution_count": null,
      "outputs": [
        {
          "output_type": "stream",
          "text": [
            "Drive already mounted at /content/drive; to attempt to forcibly remount, call drive.mount(\"/content/drive\", force_remount=True).\n",
            "[Errno 2] No such file or directory: '../content/drive/My Drive/Code/HaikuBot/notebooks/'\n",
            "/content/drive/My Drive/Code/HaikuBot/notebooks\n",
            "[nltk_data] Downloading package punkt to /root/nltk_data...\n",
            "[nltk_data]   Package punkt is already up-to-date!\n"
          ],
          "name": "stdout"
        },
        {
          "output_type": "execute_result",
          "data": {
            "text/plain": [
              "True"
            ]
          },
          "metadata": {
            "tags": []
          },
          "execution_count": 117
        }
      ]
    },
    {
      "cell_type": "code",
      "metadata": {
        "execution": {
          "iopub.execute_input": "2021-05-24T21:28:40.604852Z",
          "iopub.status.busy": "2021-05-24T21:28:40.604488Z",
          "iopub.status.idle": "2021-05-24T21:29:00.054456Z",
          "shell.execute_reply": "2021-05-24T21:29:00.053128Z",
          "shell.execute_reply.started": "2021-05-24T21:28:40.604812Z"
        },
        "colab": {
          "base_uri": "https://localhost:8080/"
        },
        "id": "pkt7RfB1pwHY",
        "outputId": "3917268c-0e55-40dd-be19-5d347b0f1d80"
      },
      "source": [
        "%load_ext autoreload\n",
        "%autoreload 2\n",
        "import sys, os\n",
        "sys.path.append('../')\n",
        "import utils\n",
        "from utils.haiku_scrape import scrape_haiku, replace_all, detokenize\n",
        "\n",
        "import matplotlib.pyplot as plt\n",
        "import numpy as np\n",
        "from pickle import dump, load\n",
        "\n",
        "#TF,nltk, scikit\n",
        "from tensorflow.keras.preprocessing.text import Tokenizer\n",
        "from tensorflow.keras.utils import to_categorical\n",
        "from tensorflow.keras import Sequential\n",
        "from tensorflow.keras.layers import Embedding, LSTM, Dense, Dropout\n",
        "from tensorflow.keras.models import load_model\n",
        "from tensorflow.keras.preprocessing.sequence import pad_sequences\n",
        "\n",
        "from sklearn.model_selection import train_test_split\n",
        "from nltk import word_tokenize\n"
      ],
      "execution_count": null,
      "outputs": [
        {
          "output_type": "stream",
          "text": [
            "The autoreload extension is already loaded. To reload it, use:\n",
            "  %reload_ext autoreload\n"
          ],
          "name": "stdout"
        }
      ]
    },
    {
      "cell_type": "markdown",
      "metadata": {
        "id": "ELQPCiTapwHf"
      },
      "source": [
        "# Haiku bot\n",
        "\n",
        "### How to enforce stanza structure?\n",
        "- 3 different rnns, each feeding into the next?\n",
        "\n",
        "### Several approaches to enforce syllable rule:\n",
        "1. Let the RNN learn on its own and see if it figures it out automatically \n",
        "    - Though syllables as a latent variable has very little hints in written text, this might work better with audio data of haikus\n",
        "2. Restrict number of output units for each stanza as the max number of words/stanza from the data \n",
        "    - Then in output, iterate until syllable count satisfied `(while count_syl(stanza) != 5...`\n",
        "        - This might not be so computationally expensive depending on number of possibile syllables (check this)      \n",
        "3. Break data down into phoneme/syllable components and feed that through RNN\n",
        "\n",
        "### Data cleaning\n",
        "- Some post titles have a preface, amend this by taking all text after a colon?\n",
        "- `[\"we\", \"'ve\"]` detokenizes differently than `[\"do\", \"n't\"]`\n",
        "- encoder doesn't like single quote quotes `'ex'`\n",
        "- API has a max number for certain things, e.g. top posts has max 757\n",
        "\n",
        "### Training\n",
        "- Removing duplicate training examples *worsens* val accuracy!\n",
        "- so what hyperparam should I be changing?\n",
        "  - before: sizes(h_set, train): (2491, 34929)\n",
        "  - after: (757, 10k)\n",
        " \n",
        "### Embeddings\n",
        "- transfer learning compare pre trained vs trained \n",
        "    - maybe find a poem embedding\n",
        "- vis with umap\n",
        "\n",
        "### Architectures \n",
        "- consider the bidirectional\n",
        "- consider train/val split with scikit\n",
        "\n",
        "# Resources\n",
        "- https://medium.com/analytics-vidhya/a-comprehensive-guide-to-build-your-own-language-model-in-python-5141b3917d6d\n",
        "- https://github.com/KhanradCoder/LearnKeras/blob/master/4.RNNs/TextGeneration.ipynb\n",
        "- [Jason word based 1](https://machinelearningmastery.com/how-to-develop-a-word-level-neural-language-model-in-keras/)\n",
        "- [Jason word based 2](https://machinelearningmastery.com/develop-word-based-neural-language-models-python-keras/)\n",
        "- [return seq](https://machinelearningmastery.com/return-sequences-and-return-states-for-lstms-in-keras/)\n",
        "- [Embeddings](https://blog.dataiku.com/deep-beers-visualizing-embeddings-of-keras-recommendation-engines)"
      ]
    },
    {
      "cell_type": "code",
      "metadata": {
        "execution": {
          "iopub.execute_input": "2021-05-24T21:29:00.056797Z",
          "iopub.status.busy": "2021-05-24T21:29:00.056195Z",
          "iopub.status.idle": "2021-05-24T21:29:18.747372Z",
          "shell.execute_reply": "2021-05-24T21:29:18.745823Z",
          "shell.execute_reply.started": "2021-05-24T21:29:00.056739Z"
        },
        "colab": {
          "base_uri": "https://localhost:8080/"
        },
        "id": "hSroU5BNpwHg",
        "outputId": "ea258bb9-a03f-4c56-d90c-316a16156248"
      },
      "source": [
        "h_set = scrape_haiku(sort='top',size=1000)\n",
        "h_set.append('Keep this in your mind. / Only after the clouds cry, / will the rainbow come') #good haiku but had trailing '/'\n",
        "len(h_set)"
      ],
      "execution_count": null,
      "outputs": [
        {
          "output_type": "execute_result",
          "data": {
            "text/plain": [
              "757"
            ]
          },
          "metadata": {
            "tags": []
          },
          "execution_count": 128
        }
      ]
    },
    {
      "cell_type": "code",
      "metadata": {
        "id": "zD0f1-TNH4JP"
      },
      "source": [
        ""
      ],
      "execution_count": null,
      "outputs": []
    },
    {
      "cell_type": "code",
      "metadata": {
        "colab": {
          "base_uri": "https://localhost:8080/"
        },
        "id": "SussyHV0_jsJ",
        "outputId": "9333e49a-7a12-4cec-9ee6-75368849b39e"
      },
      "source": [
        "len(scrape_haiku(size=100))"
      ],
      "execution_count": null,
      "outputs": [
        {
          "output_type": "execute_result",
          "data": {
            "text/plain": [
              "146"
            ]
          },
          "metadata": {
            "tags": []
          },
          "execution_count": 83
        }
      ]
    },
    {
      "cell_type": "code",
      "metadata": {
        "colab": {
          "base_uri": "https://localhost:8080/"
        },
        "id": "SQFsEHNm_4oP",
        "outputId": "20c841ed-5cea-4b4f-d434-6065693579de"
      },
      "source": [
        "repeats = 0\n",
        "past = []\n",
        "for h in h_set:\n",
        "  if h in past:\n",
        "    repeats+=1\n",
        "  past.append(h)\n",
        "  # if 'money' in h:\n",
        "  #   print(h)\n",
        "repeats"
      ],
      "execution_count": null,
      "outputs": [
        {
          "output_type": "execute_result",
          "data": {
            "text/plain": [
              "0"
            ]
          },
          "metadata": {
            "tags": []
          },
          "execution_count": 129
        }
      ]
    },
    {
      "cell_type": "code",
      "metadata": {
        "execution": {
          "iopub.execute_input": "2021-05-24T21:29:18.750949Z",
          "iopub.status.busy": "2021-05-24T21:29:18.750359Z",
          "iopub.status.idle": "2021-05-24T21:29:18.941649Z",
          "shell.execute_reply": "2021-05-24T21:29:18.939458Z",
          "shell.execute_reply.started": "2021-05-24T21:29:18.750892Z"
        },
        "id": "m_79gtInpwHi",
        "colab": {
          "base_uri": "https://localhost:8080/"
        },
        "outputId": "c07c15b8-20e4-436d-dfa3-1e426085b555"
      },
      "source": [
        "h_set[:4]"
      ],
      "execution_count": null,
      "outputs": [
        {
          "output_type": "execute_result",
          "data": {
            "text/plain": [
              "[\"walls are closing in /  if i don't escape right now /  my life will be squashed $\",\n",
              " 'when we were still young / before the net ensnared us  / days were long and free $',\n",
              " 'immasculated / dreaming of who i could be / hating who i am $',\n",
              " 'water in the hand / happiness is ephemeral / a kiss from the wind $']"
            ]
          },
          "metadata": {
            "tags": []
          },
          "execution_count": 81
        }
      ]
    },
    {
      "cell_type": "code",
      "metadata": {
        "execution": {
          "iopub.execute_input": "2021-05-24T23:00:38.365277Z",
          "iopub.status.busy": "2021-05-24T23:00:38.364943Z",
          "iopub.status.idle": "2021-05-24T23:00:38.591423Z",
          "shell.execute_reply": "2021-05-24T23:00:38.589980Z",
          "shell.execute_reply.started": "2021-05-24T23:00:38.365239Z"
        },
        "id": "S-tTpMRRpwHj"
      },
      "source": [
        "token_vocab = []\n",
        "def prepare_data(haikus,n=3):\n",
        "    \"\"\"n: n-gram size\"\"\"\n",
        "    train = [] #n_grams\n",
        "    for h in haikus:\n",
        "        tokens = h.split() #word_tokenize(h)\n",
        "        token_vocab.extend(tokens)\n",
        "        for i in range(0,len(tokens)):\n",
        "            n_gram_list = tokens[i:i+n]\n",
        "            if len(n_gram_list) == n:\n",
        "                train.append(detokenize(n_gram_list))\n",
        "            else:\n",
        "                break\n",
        "    return train\n",
        "train = prepare_data(h_set)"
      ],
      "execution_count": null,
      "outputs": []
    },
    {
      "cell_type": "code",
      "metadata": {
        "execution": {
          "iopub.execute_input": "2021-05-24T23:06:28.488386Z",
          "iopub.status.busy": "2021-05-24T23:06:28.487815Z",
          "iopub.status.idle": "2021-05-24T23:06:28.742353Z",
          "shell.execute_reply": "2021-05-24T23:06:28.740366Z",
          "shell.execute_reply.started": "2021-05-24T23:06:28.488309Z"
        },
        "colab": {
          "base_uri": "https://localhost:8080/"
        },
        "id": "_fYeolwYpwHk",
        "outputId": "58c4e286-14a1-4912-b265-f203b211c647"
      },
      "source": [
        "### With tf tokenizer\n",
        "# tokenizer = Tokenizer()\n",
        "# tokenizer.fit_on_texts(train)\n",
        "# sequences = tokenizer.texts_to_sequences(train)\n",
        "# sequences = [i for i in sequences if len(i) == 3] # removing entries with apostrophe for now\n",
        "\n",
        "# custom tokenizer doesn't skip non letter words\n",
        "token_vocab = sorted(list(set(token_vocab)))\n",
        "vocab_size = len(token_vocab) # len(tokenizer.word_index) + 1\n",
        "print('total # tokens:', vocab_size)\n",
        "token_indices = {t: i for i, t in enumerate(token_vocab)}\n",
        "indices_token = {i: t for i, t in enumerate(token_vocab)}\n",
        "\n",
        "\n",
        "# or\n",
        "\n",
        "def encode_seq(seq, mapping):\n",
        "    sequences = []\n",
        "    for ix, line in enumerate(seq):\n",
        "        # integer encode line\n",
        "        try:\n",
        "            encoded_seq = [mapping[t] for t in line.split()]\n",
        "            sequences.append(encoded_seq)\n",
        "        except:\n",
        "#             print(ix, line)\n",
        "            pass\n",
        "    return np.array(sequences)\n",
        "\n",
        "# encode the sequences\n",
        "sequences = encode_seq(train, token_indices)\n",
        "X, y = sequences[:,:-1], sequences[:,-1]\n",
        "y = to_categorical(y, num_classes=vocab_size)\n",
        "X_train, X_test, y_train, y_test = train_test_split(X, y, test_size=0.01, shuffle=False)\n",
        "seq_length = X_train.shape[1]"
      ],
      "execution_count": null,
      "outputs": [
        {
          "output_type": "stream",
          "text": [
            "total # tokens: 2621\n"
          ],
          "name": "stdout"
        }
      ]
    },
    {
      "cell_type": "markdown",
      "metadata": {
        "id": "6Y0NK4XLpwHl"
      },
      "source": [
        "# Model\n",
        "\n",
        "Sequential LSTM"
      ]
    },
    {
      "cell_type": "code",
      "metadata": {
        "execution": {
          "iopub.execute_input": "2021-05-19T23:19:46.036266Z",
          "iopub.status.busy": "2021-05-19T23:19:46.035455Z",
          "iopub.status.idle": "2021-05-19T23:19:48.441074Z",
          "shell.execute_reply": "2021-05-19T23:19:48.439939Z",
          "shell.execute_reply.started": "2021-05-19T23:19:46.036184Z"
        },
        "colab": {
          "base_uri": "https://localhost:8080/"
        },
        "id": "N7yDT_K6pwHm",
        "outputId": "3cfe6d3c-950b-4a28-ef71-8939f40982f2"
      },
      "source": [
        "model = Sequential([\n",
        "    Embedding(input_dim=vocab_size, output_dim=50, input_length=seq_length),\n",
        "    LSTM(100,return_sequences=True),\n",
        "    Dropout(0.1),\n",
        "    LSTM(100),\n",
        "    Dense(100,activation = 'relu'),\n",
        "    Dense(vocab_size, activation = 'softmax')\n",
        "])\n",
        "print(model.summary())"
      ],
      "execution_count": null,
      "outputs": [
        {
          "output_type": "stream",
          "text": [
            "Model: \"sequential_6\"\n",
            "_________________________________________________________________\n",
            "Layer (type)                 Output Shape              Param #   \n",
            "=================================================================\n",
            "embedding_6 (Embedding)      (None, 2, 50)             131050    \n",
            "_________________________________________________________________\n",
            "lstm_12 (LSTM)               (None, 2, 100)            60400     \n",
            "_________________________________________________________________\n",
            "lstm_13 (LSTM)               (None, 100)               80400     \n",
            "_________________________________________________________________\n",
            "dense_12 (Dense)             (None, 100)               10100     \n",
            "_________________________________________________________________\n",
            "dense_13 (Dense)             (None, 2621)              264721    \n",
            "=================================================================\n",
            "Total params: 546,671\n",
            "Trainable params: 546,671\n",
            "Non-trainable params: 0\n",
            "_________________________________________________________________\n",
            "None\n"
          ],
          "name": "stdout"
        }
      ]
    },
    {
      "cell_type": "code",
      "metadata": {
        "colab": {
          "base_uri": "https://localhost:8080/"
        },
        "id": "pqUg_s23pwHn",
        "outputId": "b729af5c-6c8d-4841-fc10-da638393c20a"
      },
      "source": [
        "model.compile(loss='categorical_crossentropy', optimizer='adam', metrics=['accuracy'])\n",
        "history = model.fit(X_train, y_train, validation_data=(X_test, y_test), batch_size=128, epochs=100)\n",
        "save = 1\n",
        "if save:\n",
        "    model.save('../models/model.h5')\n",
        "    #dump(tokenizer, open('../models/tokenizer.pkl', 'wb'))"
      ],
      "execution_count": null,
      "outputs": [
        {
          "output_type": "stream",
          "text": [
            "Epoch 1/100\n",
            "82/82 [==============================] - 4s 16ms/step - loss: 7.5501 - accuracy: 0.1292 - val_loss: 6.2060 - val_accuracy: 0.1321\n",
            "Epoch 2/100\n",
            "82/82 [==============================] - 1s 8ms/step - loss: 5.8025 - accuracy: 0.1451 - val_loss: 6.2374 - val_accuracy: 0.1321\n",
            "Epoch 3/100\n",
            "82/82 [==============================] - 1s 9ms/step - loss: 5.7568 - accuracy: 0.1421 - val_loss: 6.3412 - val_accuracy: 0.1321\n",
            "Epoch 4/100\n",
            "82/82 [==============================] - 1s 8ms/step - loss: 5.6694 - accuracy: 0.1452 - val_loss: 6.4218 - val_accuracy: 0.1321\n",
            "Epoch 5/100\n",
            "82/82 [==============================] - 1s 9ms/step - loss: 5.6113 - accuracy: 0.1451 - val_loss: 6.5052 - val_accuracy: 0.1321\n",
            "Epoch 6/100\n",
            "82/82 [==============================] - 1s 8ms/step - loss: 5.6260 - accuracy: 0.1406 - val_loss: 6.5439 - val_accuracy: 0.1321\n",
            "Epoch 7/100\n",
            "82/82 [==============================] - 1s 9ms/step - loss: 5.5082 - accuracy: 0.1427 - val_loss: 6.4512 - val_accuracy: 0.1321\n",
            "Epoch 8/100\n",
            "82/82 [==============================] - 1s 8ms/step - loss: 5.3847 - accuracy: 0.1496 - val_loss: 6.5185 - val_accuracy: 0.1226\n",
            "Epoch 9/100\n",
            "82/82 [==============================] - 1s 8ms/step - loss: 5.3696 - accuracy: 0.1365 - val_loss: 6.5865 - val_accuracy: 0.1415\n",
            "Epoch 10/100\n",
            "82/82 [==============================] - 1s 8ms/step - loss: 5.3079 - accuracy: 0.1420 - val_loss: 6.6893 - val_accuracy: 0.1415\n",
            "Epoch 11/100\n",
            "82/82 [==============================] - 1s 8ms/step - loss: 5.2085 - accuracy: 0.1499 - val_loss: 6.6769 - val_accuracy: 0.1604\n",
            "Epoch 12/100\n",
            "82/82 [==============================] - 1s 9ms/step - loss: 5.1216 - accuracy: 0.1573 - val_loss: 6.9310 - val_accuracy: 0.1509\n",
            "Epoch 13/100\n",
            "82/82 [==============================] - 1s 8ms/step - loss: 5.0779 - accuracy: 0.1572 - val_loss: 7.0775 - val_accuracy: 0.1698\n",
            "Epoch 14/100\n",
            "82/82 [==============================] - 1s 8ms/step - loss: 4.9980 - accuracy: 0.1569 - val_loss: 7.0402 - val_accuracy: 0.1698\n",
            "Epoch 15/100\n",
            "82/82 [==============================] - 1s 9ms/step - loss: 4.9193 - accuracy: 0.1651 - val_loss: 7.2453 - val_accuracy: 0.1604\n",
            "Epoch 16/100\n",
            "82/82 [==============================] - 1s 8ms/step - loss: 4.8435 - accuracy: 0.1677 - val_loss: 7.3064 - val_accuracy: 0.1604\n",
            "Epoch 17/100\n",
            "82/82 [==============================] - 1s 8ms/step - loss: 4.8032 - accuracy: 0.1723 - val_loss: 7.4839 - val_accuracy: 0.1509\n",
            "Epoch 18/100\n",
            "82/82 [==============================] - 1s 9ms/step - loss: 4.7751 - accuracy: 0.1645 - val_loss: 7.5869 - val_accuracy: 0.1509\n",
            "Epoch 19/100\n",
            "82/82 [==============================] - 1s 9ms/step - loss: 4.6382 - accuracy: 0.1767 - val_loss: 7.6832 - val_accuracy: 0.1415\n",
            "Epoch 20/100\n",
            "82/82 [==============================] - 1s 8ms/step - loss: 4.5981 - accuracy: 0.1747 - val_loss: 7.9719 - val_accuracy: 0.1415\n",
            "Epoch 21/100\n",
            "82/82 [==============================] - 1s 9ms/step - loss: 4.5520 - accuracy: 0.1789 - val_loss: 8.0905 - val_accuracy: 0.1415\n",
            "Epoch 22/100\n",
            "82/82 [==============================] - 1s 9ms/step - loss: 4.4616 - accuracy: 0.1801 - val_loss: 8.4036 - val_accuracy: 0.1415\n",
            "Epoch 23/100\n",
            "82/82 [==============================] - 1s 9ms/step - loss: 4.4316 - accuracy: 0.1834 - val_loss: 8.6361 - val_accuracy: 0.1415\n",
            "Epoch 24/100\n",
            "82/82 [==============================] - 1s 8ms/step - loss: 4.3089 - accuracy: 0.1986 - val_loss: 8.9765 - val_accuracy: 0.1415\n",
            "Epoch 25/100\n",
            "82/82 [==============================] - 1s 9ms/step - loss: 4.2905 - accuracy: 0.2012 - val_loss: 9.0484 - val_accuracy: 0.1509\n",
            "Epoch 26/100\n",
            "82/82 [==============================] - 1s 9ms/step - loss: 4.2029 - accuracy: 0.2093 - val_loss: 9.2774 - val_accuracy: 0.1321\n",
            "Epoch 27/100\n",
            "82/82 [==============================] - 1s 9ms/step - loss: 4.1709 - accuracy: 0.2122 - val_loss: 9.6329 - val_accuracy: 0.1415\n",
            "Epoch 28/100\n",
            "82/82 [==============================] - 1s 9ms/step - loss: 4.1172 - accuracy: 0.2144 - val_loss: 10.0229 - val_accuracy: 0.1132\n",
            "Epoch 29/100\n",
            "82/82 [==============================] - 1s 9ms/step - loss: 4.0387 - accuracy: 0.2152 - val_loss: 10.1906 - val_accuracy: 0.1321\n",
            "Epoch 30/100\n",
            "82/82 [==============================] - 1s 9ms/step - loss: 3.9681 - accuracy: 0.2268 - val_loss: 10.6095 - val_accuracy: 0.1226\n",
            "Epoch 31/100\n",
            "82/82 [==============================] - 1s 9ms/step - loss: 3.8946 - accuracy: 0.2282 - val_loss: 10.8682 - val_accuracy: 0.1509\n",
            "Epoch 32/100\n",
            "82/82 [==============================] - 1s 9ms/step - loss: 3.8223 - accuracy: 0.2397 - val_loss: 11.1305 - val_accuracy: 0.1226\n",
            "Epoch 33/100\n",
            "82/82 [==============================] - 1s 9ms/step - loss: 3.7664 - accuracy: 0.2405 - val_loss: 11.4325 - val_accuracy: 0.1132\n",
            "Epoch 34/100\n",
            "82/82 [==============================] - 1s 8ms/step - loss: 3.6833 - accuracy: 0.2465 - val_loss: 11.7890 - val_accuracy: 0.1132\n",
            "Epoch 35/100\n",
            "82/82 [==============================] - 1s 8ms/step - loss: 3.6486 - accuracy: 0.2436 - val_loss: 12.0995 - val_accuracy: 0.1226\n",
            "Epoch 36/100\n",
            "82/82 [==============================] - 1s 9ms/step - loss: 3.5620 - accuracy: 0.2651 - val_loss: 12.2800 - val_accuracy: 0.1321\n",
            "Epoch 37/100\n",
            "82/82 [==============================] - 1s 8ms/step - loss: 3.4855 - accuracy: 0.2712 - val_loss: 12.8314 - val_accuracy: 0.1226\n",
            "Epoch 38/100\n",
            "82/82 [==============================] - 1s 9ms/step - loss: 3.3778 - accuracy: 0.2831 - val_loss: 13.0351 - val_accuracy: 0.1415\n",
            "Epoch 39/100\n",
            "82/82 [==============================] - 1s 9ms/step - loss: 3.3312 - accuracy: 0.2850 - val_loss: 13.3030 - val_accuracy: 0.1321\n",
            "Epoch 40/100\n",
            "82/82 [==============================] - 1s 9ms/step - loss: 3.2895 - accuracy: 0.2897 - val_loss: 13.4970 - val_accuracy: 0.1226\n",
            "Epoch 41/100\n",
            "82/82 [==============================] - 1s 9ms/step - loss: 3.2178 - accuracy: 0.2987 - val_loss: 13.9484 - val_accuracy: 0.1132\n",
            "Epoch 42/100\n",
            "82/82 [==============================] - 1s 9ms/step - loss: 3.1330 - accuracy: 0.3166 - val_loss: 14.2019 - val_accuracy: 0.1321\n",
            "Epoch 43/100\n",
            "82/82 [==============================] - 1s 9ms/step - loss: 3.0998 - accuracy: 0.3134 - val_loss: 14.6151 - val_accuracy: 0.1038\n",
            "Epoch 44/100\n",
            "82/82 [==============================] - 1s 8ms/step - loss: 3.0762 - accuracy: 0.3220 - val_loss: 14.8536 - val_accuracy: 0.0943\n",
            "Epoch 45/100\n",
            "82/82 [==============================] - 1s 8ms/step - loss: 2.9860 - accuracy: 0.3351 - val_loss: 15.2057 - val_accuracy: 0.1132\n",
            "Epoch 46/100\n",
            "82/82 [==============================] - 1s 9ms/step - loss: 2.9778 - accuracy: 0.3304 - val_loss: 15.4838 - val_accuracy: 0.0943\n",
            "Epoch 47/100\n",
            "82/82 [==============================] - 1s 9ms/step - loss: 2.9019 - accuracy: 0.3471 - val_loss: 15.7932 - val_accuracy: 0.1132\n",
            "Epoch 48/100\n",
            "82/82 [==============================] - 1s 9ms/step - loss: 2.8163 - accuracy: 0.3595 - val_loss: 15.9493 - val_accuracy: 0.0943\n",
            "Epoch 49/100\n",
            "82/82 [==============================] - 1s 9ms/step - loss: 2.7615 - accuracy: 0.3674 - val_loss: 16.2631 - val_accuracy: 0.0943\n",
            "Epoch 50/100\n",
            "82/82 [==============================] - 1s 9ms/step - loss: 2.7370 - accuracy: 0.3728 - val_loss: 16.6058 - val_accuracy: 0.0849\n",
            "Epoch 51/100\n",
            "82/82 [==============================] - 1s 9ms/step - loss: 2.7016 - accuracy: 0.3809 - val_loss: 17.0155 - val_accuracy: 0.0943\n",
            "Epoch 52/100\n",
            "82/82 [==============================] - 1s 9ms/step - loss: 2.6729 - accuracy: 0.3783 - val_loss: 16.9812 - val_accuracy: 0.1038\n",
            "Epoch 53/100\n",
            "82/82 [==============================] - 1s 9ms/step - loss: 2.6178 - accuracy: 0.3934 - val_loss: 17.1912 - val_accuracy: 0.1038\n",
            "Epoch 54/100\n",
            "82/82 [==============================] - 1s 9ms/step - loss: 2.5648 - accuracy: 0.4106 - val_loss: 17.7685 - val_accuracy: 0.1038\n",
            "Epoch 55/100\n",
            "82/82 [==============================] - 1s 9ms/step - loss: 2.5346 - accuracy: 0.4106 - val_loss: 17.8687 - val_accuracy: 0.0943\n",
            "Epoch 56/100\n",
            "82/82 [==============================] - 1s 8ms/step - loss: 2.4664 - accuracy: 0.4262 - val_loss: 18.2416 - val_accuracy: 0.1038\n",
            "Epoch 57/100\n",
            "82/82 [==============================] - 1s 9ms/step - loss: 2.4330 - accuracy: 0.4308 - val_loss: 18.4969 - val_accuracy: 0.0943\n",
            "Epoch 58/100\n",
            "82/82 [==============================] - 1s 9ms/step - loss: 2.3672 - accuracy: 0.4406 - val_loss: 18.7804 - val_accuracy: 0.1132\n",
            "Epoch 59/100\n",
            "82/82 [==============================] - 1s 9ms/step - loss: 2.3288 - accuracy: 0.4475 - val_loss: 18.9868 - val_accuracy: 0.0849\n",
            "Epoch 60/100\n",
            "82/82 [==============================] - 1s 9ms/step - loss: 2.2964 - accuracy: 0.4643 - val_loss: 19.4565 - val_accuracy: 0.0943\n",
            "Epoch 61/100\n",
            "82/82 [==============================] - 1s 9ms/step - loss: 2.2690 - accuracy: 0.4673 - val_loss: 19.5812 - val_accuracy: 0.1132\n",
            "Epoch 62/100\n",
            "82/82 [==============================] - 1s 9ms/step - loss: 2.2402 - accuracy: 0.4626 - val_loss: 19.6515 - val_accuracy: 0.0755\n",
            "Epoch 63/100\n",
            "82/82 [==============================] - 1s 9ms/step - loss: 2.2317 - accuracy: 0.4662 - val_loss: 20.0638 - val_accuracy: 0.1038\n",
            "Epoch 64/100\n",
            "82/82 [==============================] - 1s 9ms/step - loss: 2.1446 - accuracy: 0.4829 - val_loss: 20.3789 - val_accuracy: 0.0943\n",
            "Epoch 65/100\n",
            "82/82 [==============================] - 1s 9ms/step - loss: 2.1259 - accuracy: 0.4904 - val_loss: 20.3777 - val_accuracy: 0.0755\n",
            "Epoch 66/100\n",
            "82/82 [==============================] - 1s 9ms/step - loss: 2.1120 - accuracy: 0.4969 - val_loss: 20.6182 - val_accuracy: 0.0943\n",
            "Epoch 67/100\n",
            "82/82 [==============================] - 1s 9ms/step - loss: 2.0537 - accuracy: 0.4990 - val_loss: 20.6124 - val_accuracy: 0.0755\n",
            "Epoch 68/100\n",
            "82/82 [==============================] - 1s 9ms/step - loss: 2.0153 - accuracy: 0.5110 - val_loss: 21.0856 - val_accuracy: 0.0660\n",
            "Epoch 69/100\n",
            "82/82 [==============================] - 1s 9ms/step - loss: 1.9982 - accuracy: 0.5209 - val_loss: 20.9981 - val_accuracy: 0.0849\n",
            "Epoch 70/100\n",
            "82/82 [==============================] - 1s 8ms/step - loss: 2.0078 - accuracy: 0.5146 - val_loss: 21.7355 - val_accuracy: 0.0566\n",
            "Epoch 71/100\n",
            "82/82 [==============================] - 1s 8ms/step - loss: 1.9297 - accuracy: 0.5260 - val_loss: 21.6033 - val_accuracy: 0.0755\n",
            "Epoch 72/100\n",
            "82/82 [==============================] - 1s 9ms/step - loss: 1.9083 - accuracy: 0.5304 - val_loss: 21.8430 - val_accuracy: 0.0566\n",
            "Epoch 73/100\n",
            "82/82 [==============================] - 1s 9ms/step - loss: 1.8994 - accuracy: 0.5388 - val_loss: 21.9064 - val_accuracy: 0.0660\n",
            "Epoch 74/100\n",
            "82/82 [==============================] - 1s 9ms/step - loss: 1.8786 - accuracy: 0.5355 - val_loss: 22.1626 - val_accuracy: 0.0755\n",
            "Epoch 75/100\n",
            "82/82 [==============================] - 1s 9ms/step - loss: 1.8538 - accuracy: 0.5380 - val_loss: 22.4870 - val_accuracy: 0.0849\n",
            "Epoch 76/100\n",
            "82/82 [==============================] - 1s 9ms/step - loss: 1.8451 - accuracy: 0.5423 - val_loss: 22.4666 - val_accuracy: 0.0660\n",
            "Epoch 77/100\n",
            "82/82 [==============================] - 1s 9ms/step - loss: 1.8288 - accuracy: 0.5434 - val_loss: 22.3777 - val_accuracy: 0.0660\n",
            "Epoch 78/100\n",
            "82/82 [==============================] - 1s 9ms/step - loss: 1.7893 - accuracy: 0.5547 - val_loss: 22.8319 - val_accuracy: 0.0472\n",
            "Epoch 79/100\n",
            "82/82 [==============================] - 1s 9ms/step - loss: 1.7872 - accuracy: 0.5526 - val_loss: 22.8885 - val_accuracy: 0.0755\n",
            "Epoch 80/100\n",
            "82/82 [==============================] - 1s 9ms/step - loss: 1.7377 - accuracy: 0.5624 - val_loss: 22.9567 - val_accuracy: 0.0755\n",
            "Epoch 81/100\n",
            "82/82 [==============================] - 1s 9ms/step - loss: 1.7255 - accuracy: 0.5676 - val_loss: 23.2189 - val_accuracy: 0.0755\n",
            "Epoch 82/100\n",
            "82/82 [==============================] - 1s 9ms/step - loss: 1.7335 - accuracy: 0.5658 - val_loss: 23.4393 - val_accuracy: 0.0566\n",
            "Epoch 83/100\n",
            "82/82 [==============================] - 1s 9ms/step - loss: 1.6902 - accuracy: 0.5740 - val_loss: 23.7612 - val_accuracy: 0.0566\n",
            "Epoch 84/100\n",
            "82/82 [==============================] - 1s 9ms/step - loss: 1.6927 - accuracy: 0.5691 - val_loss: 23.8885 - val_accuracy: 0.0755\n",
            "Epoch 85/100\n",
            "82/82 [==============================] - 1s 9ms/step - loss: 1.6449 - accuracy: 0.5835 - val_loss: 23.7485 - val_accuracy: 0.0566\n",
            "Epoch 86/100\n",
            "82/82 [==============================] - 1s 9ms/step - loss: 1.6480 - accuracy: 0.5761 - val_loss: 23.4528 - val_accuracy: 0.0849\n",
            "Epoch 87/100\n",
            "82/82 [==============================] - 1s 9ms/step - loss: 1.6397 - accuracy: 0.5775 - val_loss: 24.5872 - val_accuracy: 0.0755\n",
            "Epoch 88/100\n",
            "82/82 [==============================] - 1s 9ms/step - loss: 1.6328 - accuracy: 0.5812 - val_loss: 24.3341 - val_accuracy: 0.0660\n",
            "Epoch 89/100\n",
            "82/82 [==============================] - 1s 9ms/step - loss: 1.5922 - accuracy: 0.5917 - val_loss: 24.5518 - val_accuracy: 0.0660\n",
            "Epoch 90/100\n",
            "82/82 [==============================] - 1s 9ms/step - loss: 1.5784 - accuracy: 0.5914 - val_loss: 24.4692 - val_accuracy: 0.0566\n",
            "Epoch 91/100\n",
            "82/82 [==============================] - 1s 9ms/step - loss: 1.5561 - accuracy: 0.5928 - val_loss: 24.4015 - val_accuracy: 0.0755\n",
            "Epoch 92/100\n",
            "82/82 [==============================] - 1s 9ms/step - loss: 1.5466 - accuracy: 0.5992 - val_loss: 24.6078 - val_accuracy: 0.0660\n",
            "Epoch 93/100\n",
            "82/82 [==============================] - 1s 9ms/step - loss: 1.5135 - accuracy: 0.6103 - val_loss: 24.9483 - val_accuracy: 0.0566\n",
            "Epoch 94/100\n",
            "82/82 [==============================] - 1s 9ms/step - loss: 1.5044 - accuracy: 0.6096 - val_loss: 25.0513 - val_accuracy: 0.0849\n",
            "Epoch 95/100\n",
            "82/82 [==============================] - 1s 9ms/step - loss: 1.4706 - accuracy: 0.6125 - val_loss: 25.1997 - val_accuracy: 0.0566\n",
            "Epoch 96/100\n",
            "82/82 [==============================] - 1s 9ms/step - loss: 1.4712 - accuracy: 0.6136 - val_loss: 25.3967 - val_accuracy: 0.0660\n",
            "Epoch 97/100\n",
            "82/82 [==============================] - 1s 9ms/step - loss: 1.4876 - accuracy: 0.6156 - val_loss: 25.3624 - val_accuracy: 0.0660\n",
            "Epoch 98/100\n",
            "82/82 [==============================] - 1s 9ms/step - loss: 1.4293 - accuracy: 0.6204 - val_loss: 25.5228 - val_accuracy: 0.0849\n",
            "Epoch 99/100\n",
            "82/82 [==============================] - 1s 9ms/step - loss: 1.4542 - accuracy: 0.6166 - val_loss: 25.6244 - val_accuracy: 0.0472\n",
            "Epoch 100/100\n",
            "82/82 [==============================] - 1s 9ms/step - loss: 1.4476 - accuracy: 0.6143 - val_loss: 25.7062 - val_accuracy: 0.0472\n"
          ],
          "name": "stdout"
        }
      ]
    },
    {
      "cell_type": "code",
      "metadata": {
        "colab": {
          "base_uri": "https://localhost:8080/"
        },
        "id": "gQ8dBq-4u-Mw",
        "outputId": "99d07e8b-17e7-4767-d4b9-d8021da2df3d"
      },
      "source": [
        "_, acc = model.evaluate(X_test, y_test, verbose=0)\n",
        "print(acc)"
      ],
      "execution_count": null,
      "outputs": [
        {
          "output_type": "stream",
          "text": [
            "0.04716981202363968\n"
          ],
          "name": "stdout"
        }
      ]
    },
    {
      "cell_type": "code",
      "metadata": {
        "colab": {
          "base_uri": "https://localhost:8080/",
          "height": 407
        },
        "id": "463l-T7Gvb8h",
        "outputId": "87ddcb0d-594f-401f-87d1-636ee19cc534"
      },
      "source": [
        "plt.figure(figsize=(12,6))\n",
        "plt.subplot(1,2,1)\n",
        "plt.plot(history.history['loss'], color='blue', label='train')\n",
        "plt.plot(history.history['val_loss'], color='orange', label='test'); plt.title(f'Min val loss {min(history.history[\"val_loss\"]):.2f}')\n",
        "plt.subplot(1,2,2)\n",
        "plt.plot(history.history['accuracy'], color='blue', label='train')\n",
        "plt.plot(history.history['val_accuracy'], color='orange', label='test'); plt.title(f'Max val accuracy {max(history.history[\"val_accuracy\"]):.2f}')"
      ],
      "execution_count": null,
      "outputs": [
        {
          "output_type": "execute_result",
          "data": {
            "text/plain": [
              "Text(0.5, 1.0, 'Max val accuracy 0.17')"
            ]
          },
          "metadata": {
            "tags": []
          },
          "execution_count": 142
        },
        {
          "output_type": "display_data",
          "data": {
            "image/png": "[encoded data removed]",
            "text/plain": [
              "<Figure size 864x432 with 2 Axes>"
            ]
          },
          "metadata": {
            "tags": [],
            "needs_background": "light"
          }
        }
      ]
    },
    {
      "cell_type": "markdown",
      "metadata": {
        "id": "-RNvTFh9pwHn"
      },
      "source": [
        "# Text generation"
      ]
    },
    {
      "cell_type": "code",
      "metadata": {
        "execution": {
          "iopub.execute_input": "2021-05-22T03:41:48.229369Z",
          "iopub.status.busy": "2021-05-22T03:41:48.220600Z",
          "iopub.status.idle": "2021-05-22T03:41:49.354938Z",
          "shell.execute_reply": "2021-05-22T03:41:49.353821Z",
          "shell.execute_reply.started": "2021-05-22T03:41:48.229294Z"
        },
        "id": "PRemeNIXpwHn"
      },
      "source": [
        "model = load_model('../models/model.h5',compile=False)\n",
        "tokenizer = load(open('../models/tokenizer.pkl', 'rb'))"
      ],
      "execution_count": null,
      "outputs": []
    },
    {
      "cell_type": "code",
      "metadata": {
        "execution": {
          "iopub.execute_input": "2021-05-22T03:46:07.952868Z",
          "iopub.status.busy": "2021-05-22T03:46:07.952295Z",
          "iopub.status.idle": "2021-05-22T03:46:09.074195Z",
          "shell.execute_reply": "2021-05-22T03:46:09.072776Z",
          "shell.execute_reply.started": "2021-05-22T03:46:07.952734Z"
        },
        "colab": {
          "base_uri": "https://localhost:8080/"
        },
        "id": "6d74mtTTpwHo",
        "outputId": "39c9cf15-2535-47a1-8a72-f6a58b279121"
      },
      "source": [
        "#index_word = {v:k for k,v in tokenizer.word_index.items()}\n",
        "def generate_seq(model, seq_length, seed_text, n_words,tokenizer=tokenizer):\n",
        "    output = []\n",
        "    text = seed_text\n",
        "    for _ in range(n_words):\n",
        "        #encoded = tokenizer.texts_to_sequences([text])[0] # encode the text as integer\n",
        "        encoded = encode_seq([text], token_indices)[0]\n",
        "        encoded = pad_sequences([encoded], maxlen=seq_length, truncating='pre') #truncate sequences toa  fixed length (since reinputted)\n",
        "        yhat = model.predict_classes(encoded, verbose=False)\n",
        "        _word = indices_token[yhat[0]] # map predicted word index to word\n",
        "        if _word == '$':\n",
        "          return ' '.join(output)\n",
        "        text += ' ' + _word\n",
        "        output.append(_word)\n",
        "        \n",
        "seq_length = len(train[0].split()) - 1 # also defined as X.shape[1] above\n",
        "seed_text = \"it is my\" #train[np.random.randint(0,len(train))]\n",
        "print(seed_text + '\\n')\n",
        "generated = generate_seq(model, seq_length, seed_text, 20,tokenizer=None)\n",
        "print(generated)"
      ],
      "execution_count": null,
      "outputs": [
        {
          "output_type": "stream",
          "text": [
            "it is my\n",
            "\n"
          ],
          "name": "stdout"
        },
        {
          "output_type": "stream",
          "text": [
            "/usr/local/lib/python3.7/dist-packages/tensorflow/python/keras/engine/sequential.py:450: UserWarning: `model.predict_classes()` is deprecated and will be removed after 2021-01-01. Please use instead:* `np.argmax(model.predict(x), axis=-1)`,   if your model does multi-class classification   (e.g. if it uses a `softmax` last-layer activation).* `(model.predict(x) > 0.5).astype(\"int32\")`,   if your model does binary classification   (e.g. if it uses a `sigmoid` last-layer activation).\n",
            "  warnings.warn('`model.predict_classes()` is deprecated and '\n"
          ],
          "name": "stderr"
        },
        {
          "output_type": "stream",
          "text": [
            "drug / My best friend / Long talks turned into silence / amidst the chaos\n"
          ],
          "name": "stdout"
        }
      ]
    },
    {
      "cell_type": "markdown",
      "metadata": {
        "id": "eoVoDi1JpwHp"
      },
      "source": [
        "# Evaluation\n",
        "\n",
        "Some weird oscillating output (even though I am going beyond haiku length wanted to see what it generates)\n",
        "\n",
        "```\n",
        "I called my\n",
        "\n",
        "legs upon the leaves ns died with harsh broken coming ns i am stuck at work ns i am stuck at work ns i am stuck at work ns i am stuck at work ns i am stuck at work ns i am stuck at work ns i am stuck at work ns i am stuck at work ns i am stuck at work ns i am stuck at work ns i am stuck at work ns i am stuck at work ns i am stuck at work ns i am stuck at work ns i am stuck at work\n",
        "```\n",
        "\n",
        "- Need to figure out better tokens\n",
        "- Hyperparams\n",
        "    - see [this](https://stackoverflow.com/questions/56849552/lstm-getting-caught-up-in-loop)"
      ]
    }
  ]
}