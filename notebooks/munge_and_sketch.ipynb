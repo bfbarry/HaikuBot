{
 "cells": [
  {
   "cell_type": "code",
   "execution_count": 91,
   "metadata": {
    "execution": {
     "iopub.execute_input": "2021-05-14T01:58:00.812860Z",
     "iopub.status.busy": "2021-05-14T01:58:00.812271Z",
     "iopub.status.idle": "2021-05-14T01:58:00.992741Z",
     "shell.execute_reply": "2021-05-14T01:58:00.990322Z",
     "shell.execute_reply.started": "2021-05-14T01:58:00.812763Z"
    }
   },
   "outputs": [
    {
     "name": "stdout",
     "output_type": "stream",
     "text": [
      "The autoreload extension is already loaded. To reload it, use:\n",
      "  %reload_ext autoreload\n"
     ]
    }
   ],
   "source": [
    "%load_ext autoreload\n",
    "%autoreload 2\n",
    "import sys, os\n",
    "sys.path.append('../')\n",
    "import utils\n",
    "from utils.haiku_scrape import scrape_haiku\n",
    "\n",
    "import matplotlib.pyplot as plt\n",
    "import numpy as np\n",
    "\n",
    "#TF\n",
    "from tensorflow.keras.preprocessing.text import Tokenizer"
   ]
  },
  {
   "cell_type": "markdown",
   "metadata": {},
   "source": [
    "# Haiku bot\n",
    "\n",
    "### How to enforce stanza structure?\n",
    "- 3 different rnns, each feeding into the next?\n",
    "\n",
    "### Several approaches to enforce syllable rule:\n",
    "1. Let the RNN learn on its own and see if it figures it out automatically \n",
    "    - Though syllables as a latent variable has very little hints in written text, this might work better with audio data of haikus\n",
    "2. Restrict number of output units for each stanza as the max number of words/stanza from the data \n",
    "    - Then in output, iterate until syllable count satisfied `(while count_syl(stanza) != 5...`\n",
    "        - This might not be so computationally expensive depending on number of possibile syllables (check this)      \n",
    "3. Break data down into phoneme/syllable components and feed that through RNN\n",
    "\n",
    "### Data cleaning\n",
    "- Some post titles have a preface, amend this by taking all text after a colon?\n",
    "\n",
    "### Embeddings\n",
    "- compare pre trained vs trained\n",
    "- vis with umap"
   ]
  },
  {
   "cell_type": "code",
   "execution_count": 165,
   "metadata": {
    "execution": {
     "iopub.execute_input": "2021-05-14T03:41:45.920331Z",
     "iopub.status.busy": "2021-05-14T03:41:45.919965Z",
     "iopub.status.idle": "2021-05-14T03:42:05.666245Z",
     "shell.execute_reply": "2021-05-14T03:42:05.664801Z",
     "shell.execute_reply.started": "2021-05-14T03:41:45.920274Z"
    }
   },
   "outputs": [
    {
     "data": {
      "text/plain": [
       "828"
      ]
     },
     "execution_count": 165,
     "metadata": {},
     "output_type": "execute_result"
    }
   ],
   "source": [
    "h_set = scrape_haiku()\n",
    "h_set.append('Keep this in your mind./Only after the clouds cry,/will the rainbow come') #good haiku but had trailing '/'\n",
    "len(h_set)"
   ]
  },
  {
   "cell_type": "code",
   "execution_count": 154,
   "metadata": {
    "execution": {
     "iopub.execute_input": "2021-05-14T03:28:32.177713Z",
     "iopub.status.busy": "2021-05-14T03:28:32.177215Z",
     "iopub.status.idle": "2021-05-14T03:28:32.639753Z",
     "shell.execute_reply": "2021-05-14T03:28:32.638567Z",
     "shell.execute_reply.started": "2021-05-14T03:28:32.177651Z"
    }
   },
   "outputs": [
    {
     "name": "stdout",
     "output_type": "stream",
     "text": [
      "[' ', '!', '\"', \"'\", ',', '.', '/', '?', 'A', 'B', 'C', 'D', 'E', 'F', 'G', 'H', 'I', 'J', 'K', 'L', 'M', 'N', 'O', 'P', 'Q', 'R', 'S', 'T', 'U', 'V', 'W', 'X', 'Y', 'Z', 'a', 'b', 'c', 'd', 'e', 'f', 'g', 'h', 'i', 'j', 'k', 'l', 'm', 'n', 'o', 'p', 'q', 'r', 's', 't', 'u', 'v', 'w', 'x', 'y', 'z']\n"
     ]
    },
    {
     "data": {
      "text/plain": [
       "[<matplotlib.lines.Line2D at 0x7fab3748fed0>]"
      ]
     },
     "execution_count": 154,
     "metadata": {},
     "output_type": "execute_result"
    },
    {
     "data": {
      "image/png": "[encoded data removed]",
      "text/plain": [
       "<Figure size 432x288 with 1 Axes>"
      ]
     },
     "metadata": {
      "needs_background": "light"
     },
     "output_type": "display_data"
    }
   ],
   "source": [
    "all_s = ''\n",
    "for i in h_set:\n",
    "    all_s += i\n",
    "print(sorted(set(all_s)))\n",
    "plt.plot(sorted([ord(i) for i in set(all_s)]))"
   ]
  },
  {
   "cell_type": "code",
   "execution_count": 7,
   "metadata": {
    "execution": {
     "iopub.execute_input": "2021-05-13T20:24:47.762364Z",
     "iopub.status.busy": "2021-05-13T20:24:47.761777Z",
     "iopub.status.idle": "2021-05-13T20:24:47.784691Z",
     "shell.execute_reply": "2021-05-13T20:24:47.774359Z",
     "shell.execute_reply.started": "2021-05-13T20:24:47.762300Z"
    }
   },
   "outputs": [
    {
     "name": "stdout",
     "output_type": "stream",
     "text": [
      "[[2], [6], [1], [], [12], [3], [4], [5], [1], [7], [], [13], [5], [9], [2], [1], [], [8], [3], [14], [1], [], [3], [10], [], [2], [6], [4], [11], [], [9], [7], [8], [6], [4], [2], [1], [8], [2], [15], [7], [1], [], [4], [11], [], [10], [3], [5], [5], [3], [16], [4], [17], [18]]\n"
     ]
    }
   ],
   "source": [
    "tokenizer = Tokenizer()\n",
    "l = 'The boiler plate code of this architecture is following'\n",
    "tokenizer.fit_on_texts(l)\n",
    "sequences = tokenizer.texts_to_sequences(l)\n",
    "print(sequences)"
   ]
  },
  {
   "cell_type": "code",
   "execution_count": 141,
   "metadata": {
    "execution": {
     "iopub.execute_input": "2021-05-14T03:13:05.087500Z",
     "iopub.status.busy": "2021-05-14T03:13:05.087048Z",
     "iopub.status.idle": "2021-05-14T03:13:05.251545Z",
     "shell.execute_reply": "2021-05-14T03:13:05.243594Z",
     "shell.execute_reply.started": "2021-05-14T03:13:05.087455Z"
    }
   },
   "outputs": [
    {
     "name": "stdout",
     "output_type": "stream",
     "text": [
      "Error 404: / Your haiku could not be found. / Try again later.\n",
      "Palindrome: Non mutual life/We owe not in it one woe/We fill autumn on\n",
      "My 7yr old girl's first haiku: I love my mummy / Way more than the universe / And my daddy too.\n",
      "The saddest haiku: / when you think it’s your best but / alas, just 1 upvote\n",
      "Trying to repair / a marriage while heartbroken: / Sisyphean task.\n",
      "for those gone astray: / even on the darkest nights, / fireflies flicker.\n",
      "His tight, wet body/Carries me to the bed; I/Whisper, soft: \"No homo\".\n"
     ]
    }
   ],
   "source": [
    "for i in h:\n",
    "    if ':' in i: \n",
    "        print(i)"
   ]
  },
  {
   "cell_type": "markdown",
   "metadata": {
    "execution": {
     "iopub.execute_input": "2021-05-14T01:21:02.471226Z",
     "iopub.status.busy": "2021-05-14T01:21:02.470707Z",
     "iopub.status.idle": "2021-05-14T01:21:03.812166Z",
     "shell.execute_reply": "2021-05-14T01:21:03.810660Z",
     "shell.execute_reply.started": "2021-05-14T01:21:02.471159Z"
    }
   },
   "source": [
    "# Emoji removal"
   ]
  },
  {
   "cell_type": "code",
   "execution_count": 74,
   "metadata": {
    "execution": {
     "iopub.execute_input": "2021-05-14T01:38:23.581977Z",
     "iopub.status.busy": "2021-05-14T01:38:23.581479Z",
     "iopub.status.idle": "2021-05-14T01:38:23.756692Z",
     "shell.execute_reply": "2021-05-14T01:38:23.754603Z",
     "shell.execute_reply.started": "2021-05-14T01:38:23.581912Z"
    }
   },
   "outputs": [
    {
     "name": "stdout",
     "output_type": "stream",
     "text": [
      "[32, 33, 34, 38, 39, 40, 41, 44, 45, 46, 47, 48, 49, 50, 51, 52, 53, 54, 55, 56, 57, 58, 59, 63, 65, 66, 67, 68, 69, 70, 71, 72, 73, 74, 75, 76, 77, 78, 79, 80, 81, 82, 83, 84, 85, 86, 87, 88, 89, 90, 94, 97, 98, 99, 100, 101, 102, 103, 104, 105, 106, 107, 108, 109, 110, 111, 112, 113, 114, 115, 116, 117, 118, 119, 120, 121, 122, 233, 8212, 8217, 8220, 8221, 8230, 9925, 11834, 65039, 65295, 65340, 127843, 127849, 127969, 128520]\n"
     ]
    },
    {
     "data": {
      "text/plain": [
       "'”'"
      ]
     },
     "execution_count": 74,
     "metadata": {},
     "output_type": "execute_result"
    }
   ],
   "source": [
    "x = sorted([ord(i) for i in set(all_s)])\n",
    "print(x)\n",
    "chr(8221)"
   ]
  },
  {
   "cell_type": "code",
   "execution_count": 103,
   "metadata": {
    "execution": {
     "iopub.execute_input": "2021-05-14T02:00:57.295421Z",
     "iopub.status.busy": "2021-05-14T02:00:57.294848Z",
     "iopub.status.idle": "2021-05-14T02:00:57.855982Z",
     "shell.execute_reply": "2021-05-14T02:00:57.849688Z",
     "shell.execute_reply.started": "2021-05-14T02:00:57.295309Z"
    }
   },
   "outputs": [
    {
     "data": {
      "text/plain": [
       "[<matplotlib.lines.Line2D at 0x7fab39241fd0>]"
      ]
     },
     "execution_count": 103,
     "metadata": {},
     "output_type": "execute_result"
    },
    {
     "data": {
      "image/png": "[encoded data removed]",
      "text/plain": [
       "<Figure size 432x288 with 1 Axes>"
      ]
     },
     "metadata": {
      "needs_background": "light"
     },
     "output_type": "display_data"
    }
   ],
   "source": [
    "with open('../data/emoji-data.txt','r') as f:\n",
    "    x = f.read()\n",
    "x = [i for ix, i in enumerate(x) if x[ix-1] == '(' ]\n",
    "ords = sorted([ord(i) for i in x])\n",
    "plt.plot(ords[:177])"
   ]
  },
  {
   "cell_type": "code",
   "execution_count": 105,
   "metadata": {
    "execution": {
     "iopub.execute_input": "2021-05-14T02:01:15.378452Z",
     "iopub.status.busy": "2021-05-14T02:01:15.377954Z",
     "iopub.status.idle": "2021-05-14T02:01:15.534622Z",
     "shell.execute_reply": "2021-05-14T02:01:15.533516Z",
     "shell.execute_reply.started": "2021-05-14T02:01:15.378388Z"
    }
   },
   "outputs": [
    {
     "data": {
      "text/plain": [
       "15"
      ]
     },
     "execution_count": 105,
     "metadata": {},
     "output_type": "execute_result"
    }
   ],
   "source": [
    "np.argmax(np.diff(ords[:177]))"
   ]
  }
 ],
 "metadata": {
  "kernelspec": {
   "display_name": "Python 3",
   "language": "python",
   "name": "python3"
  },
  "language_info": {
   "codemirror_mode": {
    "name": "ipython",
    "version": 3
   },
   "file_extension": ".py",
   "mimetype": "text/x-python",
   "name": "python",
   "nbconvert_exporter": "python",
   "pygments_lexer": "ipython3",
   "version": "3.7.4"
  }
 },
 "nbformat": 4,
 "nbformat_minor": 4
}
