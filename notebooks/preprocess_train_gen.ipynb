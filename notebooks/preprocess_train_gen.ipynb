{
  "nbformat": 4,
  "nbformat_minor": 0,
  "metadata": {
    "kernelspec": {
      "display_name": "Python 3",
      "language": "python",
      "name": "python3"
    },
    "language_info": {
      "codemirror_mode": {
        "name": "ipython",
        "version": 3
      },
      "file_extension": ".py",
      "mimetype": "text/x-python",
      "name": "python",
      "nbconvert_exporter": "python",
      "pygments_lexer": "ipython3",
      "version": "3.7.4"
    },
    "colab": {
      "name": "preprocess_train_gen.ipynb",
      "provenance": [],
      "collapsed_sections": []
    },
    "accelerator": "GPU"
  },
  "cells": [
    {
      "cell_type": "code",
      "metadata": {
        "colab": {
          "base_uri": "https://localhost:8080/"
        },
        "id": "xjFl7qlLpxzF",
        "outputId": "0a66909a-0010-4af5-e08e-b9a2d5443e71"
      },
      "source": [
        "#for google drive only\n",
        "from google.colab import drive\n",
        "drive.mount('/content/drive')\n",
        "%cd ../content/drive/My\\ Drive/Code/HaikuBot/notebooks/\n",
        "\n",
        "# import nltk\n",
        "# nltk.download('punkt')"
      ],
      "execution_count": null,
      "outputs": [
        {
          "output_type": "stream",
          "text": [
            "Drive already mounted at /content/drive; to attempt to forcibly remount, call drive.mount(\"/content/drive\", force_remount=True).\n",
            "/content/drive/My Drive/Code/HaikuBot/notebooks\n"
          ],
          "name": "stdout"
        }
      ]
    },
    {
      "cell_type": "code",
      "metadata": {
        "execution": {
          "iopub.execute_input": "2021-05-24T21:28:40.604852Z",
          "iopub.status.busy": "2021-05-24T21:28:40.604488Z",
          "iopub.status.idle": "2021-05-24T21:29:00.054456Z",
          "shell.execute_reply": "2021-05-24T21:29:00.053128Z",
          "shell.execute_reply.started": "2021-05-24T21:28:40.604812Z"
        },
        "id": "pkt7RfB1pwHY"
      },
      "source": [
        "%load_ext autoreload\n",
        "%autoreload 2\n",
        "import sys, os\n",
        "sys.path.append('../')\n",
        "import utils\n",
        "from utils.haiku_scrape import scrape_haiku, replace_all, detokenize\n",
        "\n",
        "import matplotlib.pyplot as plt\n",
        "import numpy as np\n",
        "from pickle import dump, load\n",
        "\n",
        "#TF,nltk, scikit\n",
        "from tensorflow.keras.preprocessing.text import Tokenizer\n",
        "from tensorflow.keras.utils import to_categorical\n",
        "from tensorflow.keras import Sequential\n",
        "from tensorflow.keras.layers import Embedding, LSTM, Dense, Dropout\n",
        "from tensorflow.keras.models import load_model\n",
        "from tensorflow.keras.preprocessing.sequence import pad_sequences\n",
        "from tensorflow.keras.regularizers import l2\n",
        "\n",
        "from sklearn.model_selection import train_test_split\n",
        "#from nltk import word_tokenize\n"
      ],
      "execution_count": null,
      "outputs": []
    },
    {
      "cell_type": "markdown",
      "metadata": {
        "id": "ELQPCiTapwHf"
      },
      "source": [
        "# Haiku bot\n",
        "\n",
        "### How to enforce stanza structure?\n",
        "- 3 different rnns, each feeding into the next?\n",
        "\n",
        "### Several approaches to enforce syllable rule:\n",
        "1. Let the RNN learn on its own and see if it figures it out automatically \n",
        "    - Though syllables as a latent variable has very little hints in written text, this might work better with audio data of haikus\n",
        "2. Restrict number of output units for each stanza as the max number of words/stanza from the data \n",
        "    - Then in output, iterate until syllable count satisfied `(while count_syl(stanza) != 5...`\n",
        "        - This might not be so computationally expensive depending on number of possibile syllables (check this)      \n",
        "3. Break data down into phoneme/syllable components and feed that through RNN\n",
        "\n",
        "### Data cleaning\n",
        "- Some post titles have a preface, amend this by taking all text after a colon?\n",
        "- `[\"we\", \"'ve\"]` detokenizes differently than `[\"do\", \"n't\"]`\n",
        "- encoder doesn't like single quote quotes `'ex'`\n",
        "- API has a max number for certain things, e.g. top posts has max 757\n",
        "\n",
        "### Training\n",
        "- so what hyperparam should I be changing?\n",
        " \n",
        "### Embeddings\n",
        "- transfer learning compare pre trained vs trained \n",
        "    - maybe find a poem embedding\n",
        "- vis with umap\n",
        "\n",
        "### Architectures \n",
        "- consider the bidirectional\n",
        "- consider train/val split with scikit\n",
        "\n",
        "# Resources\n",
        "- https://medium.com/analytics-vidhya/a-comprehensive-guide-to-build-your-own-language-model-in-python-5141b3917d6d\n",
        "- https://github.com/KhanradCoder/LearnKeras/blob/master/4.RNNs/TextGeneration.ipynb\n",
        "- [Jason word based 1](https://machinelearningmastery.com/how-to-develop-a-word-level-neural-language-model-in-keras/)\n",
        "- [Jason word based 2](https://machinelearningmastery.com/develop-word-based-neural-language-models-python-keras/)\n",
        "- [Jason char based](https://machinelearningmastery.com/text-generation-lstm-recurrent-neural-networks-python-keras/)\n",
        "- [import embeddings](https://machinelearningmastery.com/use-word-embedding-layers-deep-learning-keras/)\n",
        "- [return seq](https://machinelearningmastery.com/return-sequences-and-return-states-for-lstms-in-keras/)\n",
        "- [Visualize Embeddings](https://blog.dataiku.com/deep-beers-visualizing-embeddings-of-keras-recommendation-engines)"
      ]
    },
    {
      "cell_type": "code",
      "metadata": {
        "execution": {
          "iopub.execute_input": "2021-05-24T21:29:00.056797Z",
          "iopub.status.busy": "2021-05-24T21:29:00.056195Z",
          "iopub.status.idle": "2021-05-24T21:29:18.747372Z",
          "shell.execute_reply": "2021-05-24T21:29:18.745823Z",
          "shell.execute_reply.started": "2021-05-24T21:29:00.056739Z"
        },
        "id": "hSroU5BNpwHg"
      },
      "source": [
        "def load_haiku(in_dir='../data/lines.txt'):\n",
        "  with open(in_dir, 'r') as f:\n",
        "    haikus = f.read()\n",
        "  return haikus.split('\\n')\n",
        "\n",
        "h_set = load_haiku()"
      ],
      "execution_count": null,
      "outputs": []
    },
    {
      "cell_type": "code",
      "metadata": {
        "execution": {
          "iopub.execute_input": "2021-05-24T21:29:18.750949Z",
          "iopub.status.busy": "2021-05-24T21:29:18.750359Z",
          "iopub.status.idle": "2021-05-24T21:29:18.941649Z",
          "shell.execute_reply": "2021-05-24T21:29:18.939458Z",
          "shell.execute_reply.started": "2021-05-24T21:29:18.750892Z"
        },
        "id": "m_79gtInpwHi"
      },
      "source": [
        "h_set = h_set[:int(len(h_set)*0.6)]"
      ],
      "execution_count": null,
      "outputs": []
    },
    {
      "cell_type": "code",
      "metadata": {
        "execution": {
          "iopub.execute_input": "2021-05-24T23:00:38.365277Z",
          "iopub.status.busy": "2021-05-24T23:00:38.364943Z",
          "iopub.status.idle": "2021-05-24T23:00:38.591423Z",
          "shell.execute_reply": "2021-05-24T23:00:38.589980Z",
          "shell.execute_reply.started": "2021-05-24T23:00:38.365239Z"
        },
        "id": "S-tTpMRRpwHj"
      },
      "source": [
        "token_vocab = []\n",
        "def prepare_data(haikus,n=3):\n",
        "    \"\"\"n: n-gram size\"\"\"\n",
        "    train = [] #n_grams\n",
        "    for h in haikus:\n",
        "        tokens = h.split() #word_tokenize(h)\n",
        "        token_vocab.extend(tokens)\n",
        "        for i in range(0,len(tokens)):\n",
        "            n_gram_list = tokens[i:i+n]\n",
        "            if len(n_gram_list) == n:\n",
        "                train.append(detokenize(n_gram_list))\n",
        "            else:\n",
        "                break\n",
        "    return train\n",
        "train = prepare_data(h_set)"
      ],
      "execution_count": null,
      "outputs": []
    },
    {
      "cell_type": "code",
      "metadata": {
        "execution": {
          "iopub.execute_input": "2021-05-24T23:06:28.488386Z",
          "iopub.status.busy": "2021-05-24T23:06:28.487815Z",
          "iopub.status.idle": "2021-05-24T23:06:28.742353Z",
          "shell.execute_reply": "2021-05-24T23:06:28.740366Z",
          "shell.execute_reply.started": "2021-05-24T23:06:28.488309Z"
        },
        "colab": {
          "base_uri": "https://localhost:8080/"
        },
        "id": "_fYeolwYpwHk",
        "outputId": "4c479f48-f49c-483d-e577-1adeaa84bee8"
      },
      "source": [
        "### With tf tokenizer\n",
        "# tokenizer = Tokenizer()\n",
        "# tokenizer.fit_on_texts(train)\n",
        "# sequences = tokenizer.texts_to_sequences(train)\n",
        "# sequences = [i for i in sequences if len(i) == 3] # removing entries with apostrophe for now\n",
        "\n",
        "# custom tokenizer doesn't skip non letter words\n",
        "token_vocab = sorted(list(set(token_vocab)))\n",
        "vocab_size = len(token_vocab) # len(tokenizer.word_index) + 1\n",
        "print('total # tokens:', vocab_size)\n",
        "token_indices = {t: i for i, t in enumerate(token_vocab)}\n",
        "indices_token = {i: t for i, t in enumerate(token_vocab)}\n",
        "\n",
        "# or\n",
        "\n",
        "def encode_seq(seq, mapping):\n",
        "    sequences = []\n",
        "    for ix, line in enumerate(seq):\n",
        "        # integer encode line\n",
        "        try:\n",
        "            encoded_seq = [mapping[t] for t in line.split()]\n",
        "            sequences.append(encoded_seq)\n",
        "        except:\n",
        "#             print(ix, line)\n",
        "            pass\n",
        "    return np.array(sequences)\n",
        "\n",
        "# encode the sequences\n",
        "sequences = encode_seq(train, token_indices)\n",
        "X, y = sequences[:,:-1], sequences[:,-1]\n",
        "y = to_categorical(y, num_classes=vocab_size)\n",
        "X_train, X_test, y_train, y_test = train_test_split(X, y, test_size=0.1, shuffle=False)\n",
        "seq_length = X_train.shape[1]"
      ],
      "execution_count": null,
      "outputs": [
        {
          "output_type": "stream",
          "text": [
            "total # tokens: 11009\n"
          ],
          "name": "stdout"
        }
      ]
    },
    {
      "cell_type": "markdown",
      "metadata": {
        "id": "6Y0NK4XLpwHl"
      },
      "source": [
        "# Model\n",
        "\n",
        "Sequential LSTM"
      ]
    },
    {
      "cell_type": "code",
      "metadata": {
        "execution": {
          "iopub.execute_input": "2021-05-19T23:19:46.036266Z",
          "iopub.status.busy": "2021-05-19T23:19:46.035455Z",
          "iopub.status.idle": "2021-05-19T23:19:48.441074Z",
          "shell.execute_reply": "2021-05-19T23:19:48.439939Z",
          "shell.execute_reply.started": "2021-05-19T23:19:46.036184Z"
        },
        "colab": {
          "base_uri": "https://localhost:8080/"
        },
        "id": "N7yDT_K6pwHm",
        "outputId": "c44bb299-4dc5-49d4-a18b-56b38d2a7afe"
      },
      "source": [
        "model = Sequential([\n",
        "    Embedding(input_dim=vocab_size, output_dim=60, input_length=seq_length),\n",
        "    LSTM(100,return_sequences=True), #, recurrent_regularizer=l2(0.01)\n",
        "    # Dropout(0.2),\n",
        "    LSTM(100),\n",
        "    # Dropout(0.2),\n",
        "    Dense(100,kernel_regularizer=l2(0.01),activation = 'relu'),\n",
        "    Dense(vocab_size, activation = 'softmax')\n",
        "])\n",
        "print(model.summary())"
      ],
      "execution_count": null,
      "outputs": [
        {
          "output_type": "stream",
          "text": [
            "Model: \"sequential_1\"\n",
            "_________________________________________________________________\n",
            "Layer (type)                 Output Shape              Param #   \n",
            "=================================================================\n",
            "embedding_1 (Embedding)      (None, 2, 60)             660540    \n",
            "_________________________________________________________________\n",
            "lstm_2 (LSTM)                (None, 2, 100)            64400     \n",
            "_________________________________________________________________\n",
            "lstm_3 (LSTM)                (None, 100)               80400     \n",
            "_________________________________________________________________\n",
            "dense_2 (Dense)              (None, 100)               10100     \n",
            "_________________________________________________________________\n",
            "dense_3 (Dense)              (None, 11009)             1111909   \n",
            "=================================================================\n",
            "Total params: 1,927,349\n",
            "Trainable params: 1,927,349\n",
            "Non-trainable params: 0\n",
            "_________________________________________________________________\n",
            "None\n"
          ],
          "name": "stdout"
        }
      ]
    },
    {
      "cell_type": "code",
      "metadata": {
        "colab": {
          "base_uri": "https://localhost:8080/"
        },
        "id": "pqUg_s23pwHn",
        "outputId": "348a2ffd-4839-46ae-bda8-e9baa85b8408"
      },
      "source": [
        "model.compile(loss='categorical_crossentropy', optimizer='adam', metrics=['accuracy'])\n",
        "history = model.fit(X_train, y_train, validation_data=(X_test, y_test), batch_size=128, epochs=90)\n",
        "save = 1\n",
        "if save:\n",
        "    model.save('../models/model.h5')\n",
        "    #dump(tokenizer, open('../models/tokenizer.pkl', 'wb'))"
      ],
      "execution_count": null,
      "outputs": [
        {
          "output_type": "stream",
          "text": [
            "Epoch 1/90\n",
            "645/645 [==============================] - 15s 20ms/step - loss: 6.7179 - accuracy: 0.1463 - val_loss: 6.2478 - val_accuracy: 0.1459\n",
            "Epoch 2/90\n",
            "645/645 [==============================] - 11s 17ms/step - loss: 6.0948 - accuracy: 0.1466 - val_loss: 6.2667 - val_accuracy: 0.1458\n",
            "Epoch 3/90\n",
            "645/645 [==============================] - 11s 18ms/step - loss: 5.9588 - accuracy: 0.1568 - val_loss: 6.2757 - val_accuracy: 0.1570\n",
            "Epoch 4/90\n",
            "645/645 [==============================] - 11s 18ms/step - loss: 5.8630 - accuracy: 0.1623 - val_loss: 6.2780 - val_accuracy: 0.1595\n",
            "Epoch 5/90\n",
            "645/645 [==============================] - 11s 17ms/step - loss: 5.7761 - accuracy: 0.1643 - val_loss: 6.3123 - val_accuracy: 0.1602\n",
            "Epoch 6/90\n",
            "645/645 [==============================] - 11s 18ms/step - loss: 5.6811 - accuracy: 0.1670 - val_loss: 6.3182 - val_accuracy: 0.1634\n",
            "Epoch 7/90\n",
            "645/645 [==============================] - 11s 17ms/step - loss: 5.6044 - accuracy: 0.1684 - val_loss: 6.3628 - val_accuracy: 0.1613\n",
            "Epoch 8/90\n",
            "645/645 [==============================] - 11s 17ms/step - loss: 5.5363 - accuracy: 0.1695 - val_loss: 6.3913 - val_accuracy: 0.1612\n",
            "Epoch 9/90\n",
            "645/645 [==============================] - 12s 18ms/step - loss: 5.4648 - accuracy: 0.1706 - val_loss: 6.4060 - val_accuracy: 0.1618\n",
            "Epoch 10/90\n",
            "645/645 [==============================] - 11s 17ms/step - loss: 5.3965 - accuracy: 0.1738 - val_loss: 6.4526 - val_accuracy: 0.1636\n",
            "Epoch 11/90\n",
            "645/645 [==============================] - 11s 17ms/step - loss: 5.3235 - accuracy: 0.1792 - val_loss: 6.5588 - val_accuracy: 0.1682\n",
            "Epoch 12/90\n",
            "645/645 [==============================] - 11s 17ms/step - loss: 5.2513 - accuracy: 0.1872 - val_loss: 6.5289 - val_accuracy: 0.1673\n",
            "Epoch 13/90\n",
            "645/645 [==============================] - 11s 17ms/step - loss: 5.1844 - accuracy: 0.1962 - val_loss: 6.5249 - val_accuracy: 0.1706\n",
            "Epoch 14/90\n",
            "645/645 [==============================] - 11s 17ms/step - loss: 5.1187 - accuracy: 0.2025 - val_loss: 6.6355 - val_accuracy: 0.1681\n",
            "Epoch 15/90\n",
            "645/645 [==============================] - 11s 17ms/step - loss: 5.0567 - accuracy: 0.2084 - val_loss: 6.6417 - val_accuracy: 0.1671\n",
            "Epoch 16/90\n",
            "645/645 [==============================] - 11s 17ms/step - loss: 4.9970 - accuracy: 0.2127 - val_loss: 6.7007 - val_accuracy: 0.1668\n",
            "Epoch 17/90\n",
            "645/645 [==============================] - 11s 17ms/step - loss: 4.9383 - accuracy: 0.2166 - val_loss: 6.7458 - val_accuracy: 0.1672\n",
            "Epoch 18/90\n",
            "645/645 [==============================] - 11s 17ms/step - loss: 4.8832 - accuracy: 0.2210 - val_loss: 6.8243 - val_accuracy: 0.1686\n",
            "Epoch 19/90\n",
            "645/645 [==============================] - 11s 17ms/step - loss: 4.8267 - accuracy: 0.2251 - val_loss: 6.8574 - val_accuracy: 0.1701\n",
            "Epoch 20/90\n",
            "645/645 [==============================] - 11s 17ms/step - loss: 4.7717 - accuracy: 0.2276 - val_loss: 6.9677 - val_accuracy: 0.1662\n",
            "Epoch 21/90\n",
            "645/645 [==============================] - 11s 17ms/step - loss: 4.7168 - accuracy: 0.2320 - val_loss: 7.0205 - val_accuracy: 0.1689\n",
            "Epoch 22/90\n",
            "645/645 [==============================] - 11s 17ms/step - loss: 4.6619 - accuracy: 0.2345 - val_loss: 7.1366 - val_accuracy: 0.1673\n",
            "Epoch 23/90\n",
            "645/645 [==============================] - 11s 17ms/step - loss: 4.6101 - accuracy: 0.2386 - val_loss: 7.2153 - val_accuracy: 0.1690\n",
            "Epoch 24/90\n",
            "645/645 [==============================] - 11s 17ms/step - loss: 4.5561 - accuracy: 0.2420 - val_loss: 7.2533 - val_accuracy: 0.1703\n",
            "Epoch 25/90\n",
            "645/645 [==============================] - 11s 17ms/step - loss: 4.5049 - accuracy: 0.2459 - val_loss: 7.4815 - val_accuracy: 0.1608\n",
            "Epoch 26/90\n",
            "645/645 [==============================] - 11s 17ms/step - loss: 4.4533 - accuracy: 0.2484 - val_loss: 7.5190 - val_accuracy: 0.1641\n",
            "Epoch 27/90\n",
            "645/645 [==============================] - 11s 17ms/step - loss: 4.4022 - accuracy: 0.2528 - val_loss: 7.6704 - val_accuracy: 0.1629\n",
            "Epoch 28/90\n",
            "645/645 [==============================] - 11s 17ms/step - loss: 4.3524 - accuracy: 0.2564 - val_loss: 7.7917 - val_accuracy: 0.1635\n",
            "Epoch 29/90\n",
            "645/645 [==============================] - 11s 17ms/step - loss: 4.3035 - accuracy: 0.2602 - val_loss: 7.9656 - val_accuracy: 0.1665\n",
            "Epoch 30/90\n",
            "645/645 [==============================] - 11s 17ms/step - loss: 4.2583 - accuracy: 0.2629 - val_loss: 8.0896 - val_accuracy: 0.1598\n",
            "Epoch 31/90\n",
            "645/645 [==============================] - 11s 17ms/step - loss: 4.2125 - accuracy: 0.2666 - val_loss: 8.2833 - val_accuracy: 0.1600\n",
            "Epoch 32/90\n",
            "645/645 [==============================] - 11s 17ms/step - loss: 4.1668 - accuracy: 0.2715 - val_loss: 8.3711 - val_accuracy: 0.1540\n",
            "Epoch 33/90\n",
            "645/645 [==============================] - 11s 17ms/step - loss: 4.1231 - accuracy: 0.2742 - val_loss: 8.4654 - val_accuracy: 0.1572\n",
            "Epoch 34/90\n",
            "645/645 [==============================] - 11s 17ms/step - loss: 4.0833 - accuracy: 0.2784 - val_loss: 8.6923 - val_accuracy: 0.1553\n",
            "Epoch 35/90\n",
            "645/645 [==============================] - 11s 17ms/step - loss: 4.0426 - accuracy: 0.2831 - val_loss: 8.8591 - val_accuracy: 0.1611\n",
            "Epoch 36/90\n",
            "645/645 [==============================] - 11s 17ms/step - loss: 4.0044 - accuracy: 0.2882 - val_loss: 8.9065 - val_accuracy: 0.1557\n",
            "Epoch 37/90\n",
            "645/645 [==============================] - 11s 17ms/step - loss: 3.9681 - accuracy: 0.2917 - val_loss: 9.0694 - val_accuracy: 0.1611\n",
            "Epoch 38/90\n",
            "645/645 [==============================] - 11s 17ms/step - loss: 3.9309 - accuracy: 0.2967 - val_loss: 9.1742 - val_accuracy: 0.1556\n",
            "Epoch 39/90\n",
            "645/645 [==============================] - 11s 17ms/step - loss: 3.8959 - accuracy: 0.3012 - val_loss: 9.3022 - val_accuracy: 0.1566\n",
            "Epoch 40/90\n",
            "645/645 [==============================] - 11s 17ms/step - loss: 3.8639 - accuracy: 0.3059 - val_loss: 9.4333 - val_accuracy: 0.1468\n",
            "Epoch 41/90\n",
            "645/645 [==============================] - 11s 17ms/step - loss: 3.8310 - accuracy: 0.3084 - val_loss: 9.5375 - val_accuracy: 0.1559\n",
            "Epoch 42/90\n",
            "645/645 [==============================] - 11s 17ms/step - loss: 3.7985 - accuracy: 0.3160 - val_loss: 9.6645 - val_accuracy: 0.1533\n",
            "Epoch 43/90\n",
            "645/645 [==============================] - 11s 17ms/step - loss: 3.7712 - accuracy: 0.3185 - val_loss: 9.8427 - val_accuracy: 0.1525\n",
            "Epoch 44/90\n",
            "645/645 [==============================] - 11s 17ms/step - loss: 3.7409 - accuracy: 0.3232 - val_loss: 9.8721 - val_accuracy: 0.1469\n",
            "Epoch 45/90\n",
            "645/645 [==============================] - 11s 17ms/step - loss: 3.7127 - accuracy: 0.3291 - val_loss: 9.9806 - val_accuracy: 0.1575\n",
            "Epoch 46/90\n",
            "645/645 [==============================] - 11s 17ms/step - loss: 3.6845 - accuracy: 0.3325 - val_loss: 10.1346 - val_accuracy: 0.1474\n",
            "Epoch 47/90\n",
            "645/645 [==============================] - 11s 17ms/step - loss: 3.6580 - accuracy: 0.3359 - val_loss: 10.1567 - val_accuracy: 0.1574\n",
            "Epoch 48/90\n",
            "645/645 [==============================] - 11s 17ms/step - loss: 3.6323 - accuracy: 0.3408 - val_loss: 10.3136 - val_accuracy: 0.1519\n",
            "Epoch 49/90\n",
            "645/645 [==============================] - 11s 17ms/step - loss: 3.6069 - accuracy: 0.3437 - val_loss: 10.3749 - val_accuracy: 0.1559\n",
            "Epoch 50/90\n",
            "645/645 [==============================] - 11s 17ms/step - loss: 3.5827 - accuracy: 0.3481 - val_loss: 10.4806 - val_accuracy: 0.1495\n",
            "Epoch 51/90\n",
            "645/645 [==============================] - 11s 17ms/step - loss: 3.5581 - accuracy: 0.3529 - val_loss: 10.5346 - val_accuracy: 0.1539\n",
            "Epoch 52/90\n",
            "645/645 [==============================] - 11s 17ms/step - loss: 3.5317 - accuracy: 0.3552 - val_loss: 10.6324 - val_accuracy: 0.1533\n",
            "Epoch 53/90\n",
            "645/645 [==============================] - 11s 17ms/step - loss: 3.5094 - accuracy: 0.3588 - val_loss: 10.6941 - val_accuracy: 0.1517\n",
            "Epoch 54/90\n",
            "645/645 [==============================] - 11s 17ms/step - loss: 3.4874 - accuracy: 0.3632 - val_loss: 10.6852 - val_accuracy: 0.1533\n",
            "Epoch 55/90\n",
            "645/645 [==============================] - 11s 17ms/step - loss: 3.4636 - accuracy: 0.3668 - val_loss: 10.8304 - val_accuracy: 0.1498\n",
            "Epoch 56/90\n",
            "645/645 [==============================] - 11s 17ms/step - loss: 3.4411 - accuracy: 0.3699 - val_loss: 10.8924 - val_accuracy: 0.1514\n",
            "Epoch 57/90\n",
            "645/645 [==============================] - 11s 17ms/step - loss: 3.4216 - accuracy: 0.3736 - val_loss: 10.9402 - val_accuracy: 0.1468\n",
            "Epoch 58/90\n",
            "645/645 [==============================] - 11s 17ms/step - loss: 3.3999 - accuracy: 0.3772 - val_loss: 11.0461 - val_accuracy: 0.1529\n",
            "Epoch 59/90\n",
            "645/645 [==============================] - 11s 17ms/step - loss: 3.3813 - accuracy: 0.3790 - val_loss: 11.1770 - val_accuracy: 0.1499\n",
            "Epoch 60/90\n",
            "645/645 [==============================] - 11s 17ms/step - loss: 3.3597 - accuracy: 0.3824 - val_loss: 11.1832 - val_accuracy: 0.1511\n",
            "Epoch 61/90\n",
            "645/645 [==============================] - 11s 17ms/step - loss: 3.3367 - accuracy: 0.3869 - val_loss: 11.2359 - val_accuracy: 0.1456\n",
            "Epoch 62/90\n",
            "645/645 [==============================] - 11s 17ms/step - loss: 3.3178 - accuracy: 0.3899 - val_loss: 11.2780 - val_accuracy: 0.1483\n",
            "Epoch 63/90\n",
            "645/645 [==============================] - 11s 17ms/step - loss: 3.2999 - accuracy: 0.3927 - val_loss: 11.3034 - val_accuracy: 0.1503\n",
            "Epoch 64/90\n",
            "645/645 [==============================] - 11s 17ms/step - loss: 3.2808 - accuracy: 0.3954 - val_loss: 11.4242 - val_accuracy: 0.1495\n",
            "Epoch 65/90\n",
            "645/645 [==============================] - 11s 17ms/step - loss: 3.2626 - accuracy: 0.3981 - val_loss: 11.5102 - val_accuracy: 0.1507\n",
            "Epoch 66/90\n",
            "645/645 [==============================] - 11s 17ms/step - loss: 3.2444 - accuracy: 0.4007 - val_loss: 11.4970 - val_accuracy: 0.1546\n",
            "Epoch 67/90\n",
            "645/645 [==============================] - 11s 17ms/step - loss: 3.2264 - accuracy: 0.4033 - val_loss: 11.5535 - val_accuracy: 0.1514\n",
            "Epoch 68/90\n",
            "645/645 [==============================] - 11s 17ms/step - loss: 3.2091 - accuracy: 0.4056 - val_loss: 11.6220 - val_accuracy: 0.1524\n",
            "Epoch 69/90\n",
            "645/645 [==============================] - 11s 17ms/step - loss: 3.1879 - accuracy: 0.4099 - val_loss: 11.6582 - val_accuracy: 0.1517\n",
            "Epoch 70/90\n",
            "645/645 [==============================] - 11s 17ms/step - loss: 3.1728 - accuracy: 0.4118 - val_loss: 11.7349 - val_accuracy: 0.1476\n",
            "Epoch 71/90\n",
            "645/645 [==============================] - 11s 17ms/step - loss: 3.1572 - accuracy: 0.4136 - val_loss: 11.7601 - val_accuracy: 0.1507\n",
            "Epoch 72/90\n",
            "645/645 [==============================] - 11s 17ms/step - loss: 3.1372 - accuracy: 0.4163 - val_loss: 11.8073 - val_accuracy: 0.1485\n",
            "Epoch 73/90\n",
            "645/645 [==============================] - 11s 17ms/step - loss: 3.1202 - accuracy: 0.4182 - val_loss: 11.9613 - val_accuracy: 0.1483\n",
            "Epoch 74/90\n",
            "645/645 [==============================] - 11s 17ms/step - loss: 3.1059 - accuracy: 0.4210 - val_loss: 12.0003 - val_accuracy: 0.1500\n",
            "Epoch 75/90\n",
            "645/645 [==============================] - 11s 17ms/step - loss: 3.0904 - accuracy: 0.4240 - val_loss: 11.9787 - val_accuracy: 0.1479\n",
            "Epoch 76/90\n",
            "645/645 [==============================] - 11s 17ms/step - loss: 3.0743 - accuracy: 0.4266 - val_loss: 12.0516 - val_accuracy: 0.1458\n",
            "Epoch 77/90\n",
            "645/645 [==============================] - 11s 17ms/step - loss: 3.0591 - accuracy: 0.4274 - val_loss: 12.0787 - val_accuracy: 0.1468\n",
            "Epoch 78/90\n",
            "645/645 [==============================] - 11s 17ms/step - loss: 3.0430 - accuracy: 0.4299 - val_loss: 12.1101 - val_accuracy: 0.1515\n",
            "Epoch 79/90\n",
            "645/645 [==============================] - 11s 17ms/step - loss: 3.0267 - accuracy: 0.4323 - val_loss: 12.1658 - val_accuracy: 0.1522\n",
            "Epoch 80/90\n",
            "645/645 [==============================] - 11s 17ms/step - loss: 3.0120 - accuracy: 0.4356 - val_loss: 12.2044 - val_accuracy: 0.1477\n",
            "Epoch 81/90\n",
            "645/645 [==============================] - 11s 17ms/step - loss: 2.9988 - accuracy: 0.4383 - val_loss: 12.2234 - val_accuracy: 0.1457\n",
            "Epoch 82/90\n",
            "645/645 [==============================] - 11s 17ms/step - loss: 2.9857 - accuracy: 0.4402 - val_loss: 12.2893 - val_accuracy: 0.1478\n",
            "Epoch 83/90\n",
            "645/645 [==============================] - 11s 17ms/step - loss: 2.9671 - accuracy: 0.4423 - val_loss: 12.3899 - val_accuracy: 0.1485\n",
            "Epoch 84/90\n",
            "645/645 [==============================] - 11s 17ms/step - loss: 2.9546 - accuracy: 0.4431 - val_loss: 12.3133 - val_accuracy: 0.1441\n",
            "Epoch 85/90\n",
            "645/645 [==============================] - 11s 17ms/step - loss: 2.9411 - accuracy: 0.4454 - val_loss: 12.4445 - val_accuracy: 0.1502\n",
            "Epoch 86/90\n",
            "645/645 [==============================] - 11s 17ms/step - loss: 2.9251 - accuracy: 0.4478 - val_loss: 12.4804 - val_accuracy: 0.1438\n",
            "Epoch 87/90\n",
            "645/645 [==============================] - 11s 17ms/step - loss: 2.9130 - accuracy: 0.4498 - val_loss: 12.4557 - val_accuracy: 0.1504\n",
            "Epoch 88/90\n",
            "645/645 [==============================] - 11s 17ms/step - loss: 2.8998 - accuracy: 0.4511 - val_loss: 12.5457 - val_accuracy: 0.1483\n",
            "Epoch 89/90\n",
            "645/645 [==============================] - 11s 17ms/step - loss: 2.8868 - accuracy: 0.4527 - val_loss: 12.5877 - val_accuracy: 0.1499\n",
            "Epoch 90/90\n",
            "645/645 [==============================] - 11s 17ms/step - loss: 2.8730 - accuracy: 0.4554 - val_loss: 12.6400 - val_accuracy: 0.1511\n"
          ],
          "name": "stdout"
        }
      ]
    },
    {
      "cell_type": "code",
      "metadata": {
        "colab": {
          "base_uri": "https://localhost:8080/"
        },
        "id": "gQ8dBq-4u-Mw",
        "outputId": "8297197f-35ee-46f7-b351-dcdf0af5cb5b"
      },
      "source": [
        "_, acc = model.evaluate(X_test, y_test, verbose=0)\n",
        "print(acc)"
      ],
      "execution_count": null,
      "outputs": [
        {
          "output_type": "stream",
          "text": [
            "0.15107521414756775\n"
          ],
          "name": "stdout"
        }
      ]
    },
    {
      "cell_type": "code",
      "metadata": {
        "colab": {
          "base_uri": "https://localhost:8080/",
          "height": 407
        },
        "id": "463l-T7Gvb8h",
        "outputId": "2e0cd637-2939-461e-cdde-5b3beb9baec5"
      },
      "source": [
        "plt.figure(figsize=(12,6))\n",
        "plt.subplot(1,2,1)\n",
        "plt.plot(history.history['loss'], color='blue', label='train')\n",
        "plt.plot(history.history['val_loss'], color='orange', label='test'); plt.title(f'Min val loss {min(history.history[\"val_loss\"]):.2f}')\n",
        "plt.subplot(1,2,2)\n",
        "plt.plot(history.history['accuracy'], color='blue', label='train')\n",
        "plt.plot(history.history['val_accuracy'], color='orange', label='test'); plt.title(f'Max val accuracy {max(history.history[\"val_accuracy\"]):.2f}')"
      ],
      "execution_count": null,
      "outputs": [
        {
          "output_type": "execute_result",
          "data": {
            "text/plain": [
              "Text(0.5, 1.0, 'Max val accuracy 0.17')"
            ]
          },
          "metadata": {
            "tags": []
          },
          "execution_count": 19
        },
        {
          "output_type": "display_data",
          "data": {
            "image/png": "[encoded data removed]",
            "text/plain": [
              "<Figure size 864x432 with 2 Axes>"
            ]
          },
          "metadata": {
            "tags": [],
            "needs_background": "light"
          }
        }
      ]
    },
    {
      "cell_type": "markdown",
      "metadata": {
        "id": "-RNvTFh9pwHn"
      },
      "source": [
        "# Text generation"
      ]
    },
    {
      "cell_type": "code",
      "metadata": {
        "execution": {
          "iopub.execute_input": "2021-05-22T03:41:48.229369Z",
          "iopub.status.busy": "2021-05-22T03:41:48.220600Z",
          "iopub.status.idle": "2021-05-22T03:41:49.354938Z",
          "shell.execute_reply": "2021-05-22T03:41:49.353821Z",
          "shell.execute_reply.started": "2021-05-22T03:41:48.229294Z"
        },
        "id": "PRemeNIXpwHn"
      },
      "source": [
        "model = load_model('../models/model.h5',compile=False)\n",
        "tokenizer = load(open('../models/tokenizer.pkl', 'rb'))"
      ],
      "execution_count": null,
      "outputs": []
    },
    {
      "cell_type": "code",
      "metadata": {
        "execution": {
          "iopub.execute_input": "2021-05-22T03:46:07.952868Z",
          "iopub.status.busy": "2021-05-22T03:46:07.952295Z",
          "iopub.status.idle": "2021-05-22T03:46:09.074195Z",
          "shell.execute_reply": "2021-05-22T03:46:09.072776Z",
          "shell.execute_reply.started": "2021-05-22T03:46:07.952734Z"
        },
        "colab": {
          "base_uri": "https://localhost:8080/"
        },
        "id": "6d74mtTTpwHo",
        "outputId": "6d3c19c7-6a7a-493d-ab6e-f0ff7e2b9962"
      },
      "source": [
        "#index_word = {v:k for k,v in tokenizer.word_index.items()}\n",
        "def generate_seq(model, seq_length, seed_text, n_words,tokenizer=encode_seq):\n",
        "    output = []\n",
        "    text = seed_text\n",
        "    for _ in range(n_words):\n",
        "        #encoded = tokenizer.texts_to_sequences([text])[0] # encode the text as integer\n",
        "        encoded = encode_seq([text], token_indices)[0]\n",
        "        encoded = pad_sequences([encoded], maxlen=seq_length, truncating='pre') #truncate sequences toa  fixed length (since reinputted)\n",
        "        yhat = np.argmax(model.predict(encoded), axis=-1) #model.predict_classes(encoded, verbose=False)\n",
        "        #print(yhat)\n",
        "        _word = indices_token[yhat[0]] # map predicted word index to word\n",
        "        if _word == '$':\n",
        "          return ' '.join(output)\n",
        "        text += ' ' + _word\n",
        "        output.append(_word)\n",
        "        \n",
        "seq_length = len(train[0].split()) - 1 # also defined as X.shape[1] above\n",
        "seed_text = train[np.random.randint(0,len(train))]\n",
        "print(seed_text + '\\n')\n",
        "generated = generate_seq(model, seq_length, seed_text, 20,tokenizer=None)\n",
        "print(generated)"
      ],
      "execution_count": null,
      "outputs": [
        {
          "output_type": "stream",
          "text": [
            "of / us\n",
            "\n",
            "forevermore\n"
          ],
          "name": "stdout"
        }
      ]
    },
    {
      "cell_type": "code",
      "metadata": {
        "colab": {
          "base_uri": "https://localhost:8080/"
        },
        "id": "6Lt6l96NE_g_",
        "outputId": "3f3a5b02-a948-42cf-b760-dc1e512a7de8"
      },
      "source": [
        "for h in h_set:\n",
        "  if 'hope now your' in h:\n",
        "    print(h)\n",
        "    "
      ],
      "execution_count": null,
      "outputs": [
        {
          "output_type": "stream",
          "text": [
            "a man in his car / complains about the traffic / to which he belongs $\n"
          ],
          "name": "stdout"
        }
      ]
    }
  ]
}