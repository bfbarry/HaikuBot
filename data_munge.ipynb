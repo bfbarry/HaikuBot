{
 "cells": [
  {
   "cell_type": "code",
   "execution_count": 2,
   "metadata": {
    "execution": {
     "iopub.execute_input": "2021-05-12T00:43:07.466295Z",
     "iopub.status.busy": "2021-05-12T00:43:07.465689Z",
     "iopub.status.idle": "2021-05-12T00:43:08.854289Z",
     "shell.execute_reply": "2021-05-12T00:43:08.853063Z",
     "shell.execute_reply.started": "2021-05-12T00:43:07.466216Z"
    }
   },
   "outputs": [
    {
     "name": "stdout",
     "output_type": "stream",
     "text": [
      "The autoreload extension is already loaded. To reload it, use:\n",
      "  %reload_ext autoreload\n"
     ]
    }
   ],
   "source": [
    "%load_ext autoreload\n",
    "%autoreload 2\n",
    "from utils.haiku_scrape import scrape_haiku"
   ]
  },
  {
   "cell_type": "code",
   "execution_count": 2,
   "metadata": {
    "execution": {
     "iopub.execute_input": "2021-05-12T00:41:44.193390Z",
     "iopub.status.busy": "2021-05-12T00:41:44.192858Z",
     "iopub.status.idle": "2021-05-12T00:42:00.869778Z",
     "shell.execute_reply": "2021-05-12T00:42:00.868365Z",
     "shell.execute_reply.started": "2021-05-12T00:41:44.193325Z"
    }
   },
   "outputs": [
    {
     "data": {
      "text/plain": [
       "941"
      ]
     },
     "execution_count": 2,
     "metadata": {},
     "output_type": "execute_result"
    }
   ],
   "source": [
    "h = scrape_haiku()\n",
    "len(h)"
   ]
  },
  {
   "cell_type": "code",
   "execution_count": null,
   "metadata": {},
   "outputs": [],
   "source": [
    "x[:40]"
   ]
  }
 ],
 "metadata": {
  "kernelspec": {
   "display_name": "Python 3",
   "language": "python",
   "name": "python3"
  },
  "language_info": {
   "codemirror_mode": {
    "name": "ipython",
    "version": 3
   },
   "file_extension": ".py",
   "mimetype": "text/x-python",
   "name": "python",
   "nbconvert_exporter": "python",
   "pygments_lexer": "ipython3",
   "version": "3.7.4"
  }
 },
 "nbformat": 4,
 "nbformat_minor": 4
}
